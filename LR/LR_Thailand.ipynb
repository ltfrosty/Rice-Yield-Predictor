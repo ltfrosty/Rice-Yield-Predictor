{
 "cells": [
  {
   "cell_type": "code",
   "execution_count": 2,
   "id": "5f2b3aaa",
   "metadata": {},
   "outputs": [],
   "source": [
    "%run MLR_Functions.ipynb\n",
    "import pandas as pd"
   ]
  },
  {
   "cell_type": "code",
   "execution_count": 3,
   "id": "07eeda2a",
   "metadata": {},
   "outputs": [],
   "source": [
    "df_rice_y = pd.read_csv(\"/Users/yxlsa/Desktop/SUTD/DTPIII/Cleaned Data/df_crop_yield.csv\")\n",
    "df_fert_use = pd.read_csv(\"/Users/yxlsa/Desktop/SUTD/DTPIII/Cleaned Data/df_fertilizer_usage.csv\")\n",
    "df_cropland = pd.read_csv(\"/Users/yxlsa/Desktop/SUTD/DTPIII/Cleaned Data/df_cropland.csv\")\n",
    "df_energy = pd.read_csv(\"/Users/yxlsa/Desktop/SUTD/DTPIII/Cleaned Data/df_energy_usage.csv\")\n",
    "df_pop = pd.read_csv(\"/Users/yxlsa/Desktop/SUTD/DTPIII/Cleaned Data/df_urban_rural_pop.csv\")\n",
    "df_water = pd.read_csv(\"/Users/yxlsa/Desktop/SUTD/DTPIII/Cleaned Data/df_water_usage.csv\")\n",
    "df_pesticide = pd.read_csv(\"/Users/yxlsa/Desktop/SUTD/DTPIII/Cleaned Data/df_pesticide_usage.csv\")\n",
    "df_pesticide_imports = pd.read_csv(\"/Users/yxlsa/Desktop/SUTD/DTPIII/Cleaned Data/df_pesticide_imports.csv\")\n",
    "df_air_dep = pd.read_csv(\"/Users/yxlsa/Desktop/SUTD/DTPIII/Cleaned Data/df_air_deposition_nitrogen.csv\")\n",
    "#print(df_pesticide_imports)"
   ]
  },
  {
   "cell_type": "code",
   "execution_count": 4,
   "id": "2c18f73c",
   "metadata": {},
   "outputs": [
    {
     "data": {
      "text/html": [
       "<div>\n",
       "<style scoped>\n",
       "    .dataframe tbody tr th:only-of-type {\n",
       "        vertical-align: middle;\n",
       "    }\n",
       "\n",
       "    .dataframe tbody tr th {\n",
       "        vertical-align: top;\n",
       "    }\n",
       "\n",
       "    .dataframe thead th {\n",
       "        text-align: right;\n",
       "    }\n",
       "</style>\n",
       "<table border=\"1\" class=\"dataframe\">\n",
       "  <thead>\n",
       "    <tr style=\"text-align: right;\">\n",
       "      <th></th>\n",
       "      <th>Yield</th>\n",
       "      <th>Cropland</th>\n",
       "      <th>Energy</th>\n",
       "      <th>Fert</th>\n",
       "      <th>Rural Pop</th>\n",
       "      <th>Urban Pop</th>\n",
       "      <th>Water</th>\n",
       "      <th>Pesticide</th>\n",
       "      <th>Pesticide Import</th>\n",
       "      <th>Air Deposition of Nitrogen</th>\n",
       "    </tr>\n",
       "  </thead>\n",
       "  <tbody>\n",
       "    <tr>\n",
       "      <th>0</th>\n",
       "      <td>1.9556</td>\n",
       "      <td>20603.0000</td>\n",
       "      <td>0.016774</td>\n",
       "      <td>50.660000</td>\n",
       "      <td>0.723072</td>\n",
       "      <td>0.301452</td>\n",
       "      <td>2801.857667</td>\n",
       "      <td>0.91</td>\n",
       "      <td>1.503185</td>\n",
       "      <td>6.8414</td>\n",
       "    </tr>\n",
       "    <tr>\n",
       "      <th>1</th>\n",
       "      <td>2.2534</td>\n",
       "      <td>20726.0000</td>\n",
       "      <td>0.016327</td>\n",
       "      <td>46.420002</td>\n",
       "      <td>0.718609</td>\n",
       "      <td>0.302042</td>\n",
       "      <td>2559.945281</td>\n",
       "      <td>0.91</td>\n",
       "      <td>1.229454</td>\n",
       "      <td>6.6988</td>\n",
       "    </tr>\n",
       "    <tr>\n",
       "      <th>2</th>\n",
       "      <td>2.1745</td>\n",
       "      <td>20574.0000</td>\n",
       "      <td>0.020647</td>\n",
       "      <td>54.330000</td>\n",
       "      <td>0.713454</td>\n",
       "      <td>0.302332</td>\n",
       "      <td>2614.282257</td>\n",
       "      <td>0.92</td>\n",
       "      <td>1.272915</td>\n",
       "      <td>6.9686</td>\n",
       "    </tr>\n",
       "    <tr>\n",
       "      <th>3</th>\n",
       "      <td>2.0497</td>\n",
       "      <td>20445.0000</td>\n",
       "      <td>0.022891</td>\n",
       "      <td>71.160000</td>\n",
       "      <td>0.707804</td>\n",
       "      <td>0.302387</td>\n",
       "      <td>2440.991593</td>\n",
       "      <td>0.92</td>\n",
       "      <td>1.230838</td>\n",
       "      <td>7.2271</td>\n",
       "    </tr>\n",
       "    <tr>\n",
       "      <th>4</th>\n",
       "      <td>2.3521</td>\n",
       "      <td>20538.0000</td>\n",
       "      <td>0.016827</td>\n",
       "      <td>66.939995</td>\n",
       "      <td>0.702430</td>\n",
       "      <td>0.302546</td>\n",
       "      <td>2249.798274</td>\n",
       "      <td>1.00</td>\n",
       "      <td>1.463031</td>\n",
       "      <td>7.4001</td>\n",
       "    </tr>\n",
       "    <tr>\n",
       "      <th>5</th>\n",
       "      <td>2.4158</td>\n",
       "      <td>20631.0000</td>\n",
       "      <td>0.017973</td>\n",
       "      <td>73.840000</td>\n",
       "      <td>0.698021</td>\n",
       "      <td>0.303106</td>\n",
       "      <td>2387.660821</td>\n",
       "      <td>1.17</td>\n",
       "      <td>1.567750</td>\n",
       "      <td>7.6855</td>\n",
       "    </tr>\n",
       "    <tr>\n",
       "      <th>6</th>\n",
       "      <td>2.4098</td>\n",
       "      <td>20724.0000</td>\n",
       "      <td>0.021540</td>\n",
       "      <td>75.750000</td>\n",
       "      <td>0.694821</td>\n",
       "      <td>0.304188</td>\n",
       "      <td>2071.595781</td>\n",
       "      <td>1.14</td>\n",
       "      <td>2.057729</td>\n",
       "      <td>7.9887</td>\n",
       "    </tr>\n",
       "    <tr>\n",
       "      <th>7</th>\n",
       "      <td>2.3788</td>\n",
       "      <td>20817.0000</td>\n",
       "      <td>0.028534</td>\n",
       "      <td>75.400000</td>\n",
       "      <td>0.692356</td>\n",
       "      <td>0.305585</td>\n",
       "      <td>2345.042479</td>\n",
       "      <td>1.15</td>\n",
       "      <td>2.046642</td>\n",
       "      <td>7.7375</td>\n",
       "    </tr>\n",
       "    <tr>\n",
       "      <th>8</th>\n",
       "      <td>2.4180</td>\n",
       "      <td>20909.0000</td>\n",
       "      <td>0.036329</td>\n",
       "      <td>85.030000</td>\n",
       "      <td>0.690393</td>\n",
       "      <td>0.307211</td>\n",
       "      <td>2419.960932</td>\n",
       "      <td>0.92</td>\n",
       "      <td>1.556494</td>\n",
       "      <td>8.7682</td>\n",
       "    </tr>\n",
       "    <tr>\n",
       "      <th>9</th>\n",
       "      <td>2.4244</td>\n",
       "      <td>21002.0000</td>\n",
       "      <td>0.027940</td>\n",
       "      <td>91.580000</td>\n",
       "      <td>0.688809</td>\n",
       "      <td>0.309013</td>\n",
       "      <td>2048.445773</td>\n",
       "      <td>1.08</td>\n",
       "      <td>2.444729</td>\n",
       "      <td>8.2513</td>\n",
       "    </tr>\n",
       "    <tr>\n",
       "      <th>10</th>\n",
       "      <td>2.6128</td>\n",
       "      <td>21095.0000</td>\n",
       "      <td>0.026281</td>\n",
       "      <td>80.160000</td>\n",
       "      <td>0.684960</td>\n",
       "      <td>0.313318</td>\n",
       "      <td>1934.570175</td>\n",
       "      <td>0.96</td>\n",
       "      <td>2.498689</td>\n",
       "      <td>8.2272</td>\n",
       "    </tr>\n",
       "    <tr>\n",
       "      <th>11</th>\n",
       "      <td>2.8739</td>\n",
       "      <td>21188.0000</td>\n",
       "      <td>0.030244</td>\n",
       "      <td>85.370000</td>\n",
       "      <td>0.673389</td>\n",
       "      <td>0.324936</td>\n",
       "      <td>1954.076511</td>\n",
       "      <td>1.45</td>\n",
       "      <td>2.626778</td>\n",
       "      <td>7.9752</td>\n",
       "    </tr>\n",
       "    <tr>\n",
       "      <th>12</th>\n",
       "      <td>2.9338</td>\n",
       "      <td>21281.0000</td>\n",
       "      <td>0.033156</td>\n",
       "      <td>88.979996</td>\n",
       "      <td>0.661119</td>\n",
       "      <td>0.336555</td>\n",
       "      <td>1836.180279</td>\n",
       "      <td>1.92</td>\n",
       "      <td>3.297674</td>\n",
       "      <td>7.9139</td>\n",
       "    </tr>\n",
       "    <tr>\n",
       "      <th>13</th>\n",
       "      <td>2.9339</td>\n",
       "      <td>21374.0000</td>\n",
       "      <td>0.037560</td>\n",
       "      <td>111.420000</td>\n",
       "      <td>0.648365</td>\n",
       "      <td>0.348208</td>\n",
       "      <td>1856.321877</td>\n",
       "      <td>2.40</td>\n",
       "      <td>3.416735</td>\n",
       "      <td>7.9106</td>\n",
       "    </tr>\n",
       "    <tr>\n",
       "      <th>14</th>\n",
       "      <td>2.8895</td>\n",
       "      <td>21467.0000</td>\n",
       "      <td>0.037565</td>\n",
       "      <td>97.750000</td>\n",
       "      <td>0.635296</td>\n",
       "      <td>0.359974</td>\n",
       "      <td>1813.644449</td>\n",
       "      <td>3.06</td>\n",
       "      <td>4.650945</td>\n",
       "      <td>8.9125</td>\n",
       "    </tr>\n",
       "    <tr>\n",
       "      <th>15</th>\n",
       "      <td>2.9974</td>\n",
       "      <td>21560.0000</td>\n",
       "      <td>0.040909</td>\n",
       "      <td>83.240005</td>\n",
       "      <td>0.622122</td>\n",
       "      <td>0.371863</td>\n",
       "      <td>1911.681194</td>\n",
       "      <td>2.03</td>\n",
       "      <td>3.648075</td>\n",
       "      <td>9.4916</td>\n",
       "    </tr>\n",
       "    <tr>\n",
       "      <th>16</th>\n",
       "      <td>2.9503</td>\n",
       "      <td>21653.0000</td>\n",
       "      <td>0.039902</td>\n",
       "      <td>85.320000</td>\n",
       "      <td>0.608692</td>\n",
       "      <td>0.383839</td>\n",
       "      <td>1701.732209</td>\n",
       "      <td>1.90</td>\n",
       "      <td>4.706090</td>\n",
       "      <td>8.1991</td>\n",
       "    </tr>\n",
       "    <tr>\n",
       "      <th>17</th>\n",
       "      <td>3.0441</td>\n",
       "      <td>21745.0000</td>\n",
       "      <td>0.044369</td>\n",
       "      <td>98.570000</td>\n",
       "      <td>0.594834</td>\n",
       "      <td>0.395722</td>\n",
       "      <td>1864.368467</td>\n",
       "      <td>3.07</td>\n",
       "      <td>5.625965</td>\n",
       "      <td>8.9677</td>\n",
       "    </tr>\n",
       "    <tr>\n",
       "      <th>18</th>\n",
       "      <td>2.9974</td>\n",
       "      <td>21838.0000</td>\n",
       "      <td>0.046488</td>\n",
       "      <td>91.710010</td>\n",
       "      <td>0.580752</td>\n",
       "      <td>0.407626</td>\n",
       "      <td>1735.114610</td>\n",
       "      <td>3.00</td>\n",
       "      <td>5.335703</td>\n",
       "      <td>8.3495</td>\n",
       "    </tr>\n",
       "    <tr>\n",
       "      <th>19</th>\n",
       "      <td>2.9079</td>\n",
       "      <td>21931.0000</td>\n",
       "      <td>0.052200</td>\n",
       "      <td>87.869995</td>\n",
       "      <td>0.566677</td>\n",
       "      <td>0.419583</td>\n",
       "      <td>1751.082915</td>\n",
       "      <td>3.10</td>\n",
       "      <td>5.771591</td>\n",
       "      <td>8.7588</td>\n",
       "    </tr>\n",
       "    <tr>\n",
       "      <th>20</th>\n",
       "      <td>2.9921</td>\n",
       "      <td>22024.0000</td>\n",
       "      <td>0.054922</td>\n",
       "      <td>113.990005</td>\n",
       "      <td>0.552709</td>\n",
       "      <td>0.431740</td>\n",
       "      <td>1915.324183</td>\n",
       "      <td>3.13</td>\n",
       "      <td>5.887516</td>\n",
       "      <td>9.0397</td>\n",
       "    </tr>\n",
       "    <tr>\n",
       "      <th>21</th>\n",
       "      <td>3.1867</td>\n",
       "      <td>22028.0000</td>\n",
       "      <td>0.049682</td>\n",
       "      <td>116.860000</td>\n",
       "      <td>0.543503</td>\n",
       "      <td>0.439284</td>\n",
       "      <td>1547.424761</td>\n",
       "      <td>3.96</td>\n",
       "      <td>7.752465</td>\n",
       "      <td>8.6757</td>\n",
       "    </tr>\n",
       "    <tr>\n",
       "      <th>22</th>\n",
       "      <td>3.1865</td>\n",
       "      <td>22032.0000</td>\n",
       "      <td>0.062255</td>\n",
       "      <td>114.970000</td>\n",
       "      <td>0.535190</td>\n",
       "      <td>0.445823</td>\n",
       "      <td>1683.856891</td>\n",
       "      <td>3.17</td>\n",
       "      <td>7.415428</td>\n",
       "      <td>9.0002</td>\n",
       "    </tr>\n",
       "    <tr>\n",
       "      <th>23</th>\n",
       "      <td>3.1463</td>\n",
       "      <td>22036.2654</td>\n",
       "      <td>0.057505</td>\n",
       "      <td>127.140000</td>\n",
       "      <td>0.526973</td>\n",
       "      <td>0.452395</td>\n",
       "      <td>1653.161377</td>\n",
       "      <td>0.37</td>\n",
       "      <td>9.011216</td>\n",
       "      <td>9.2912</td>\n",
       "    </tr>\n",
       "    <tr>\n",
       "      <th>24</th>\n",
       "      <td>3.0586</td>\n",
       "      <td>22042.0000</td>\n",
       "      <td>0.067616</td>\n",
       "      <td>121.170000</td>\n",
       "      <td>0.518863</td>\n",
       "      <td>0.459066</td>\n",
       "      <td>1690.979867</td>\n",
       "      <td>0.99</td>\n",
       "      <td>8.707670</td>\n",
       "      <td>8.9204</td>\n",
       "    </tr>\n",
       "    <tr>\n",
       "      <th>25</th>\n",
       "      <td>2.8506</td>\n",
       "      <td>22046.0000</td>\n",
       "      <td>0.063195</td>\n",
       "      <td>103.760000</td>\n",
       "      <td>0.510879</td>\n",
       "      <td>0.465836</td>\n",
       "      <td>1911.477882</td>\n",
       "      <td>1.19</td>\n",
       "      <td>7.846356</td>\n",
       "      <td>8.7811</td>\n",
       "    </tr>\n",
       "    <tr>\n",
       "      <th>26</th>\n",
       "      <td>2.9740</td>\n",
       "      <td>22042.0000</td>\n",
       "      <td>0.043608</td>\n",
       "      <td>112.460000</td>\n",
       "      <td>0.502792</td>\n",
       "      <td>0.472514</td>\n",
       "      <td>1850.208600</td>\n",
       "      <td>1.39</td>\n",
       "      <td>8.193907</td>\n",
       "      <td>8.9008</td>\n",
       "    </tr>\n",
       "    <tr>\n",
       "      <th>27</th>\n",
       "      <td>3.0690</td>\n",
       "      <td>22047.0000</td>\n",
       "      <td>0.048660</td>\n",
       "      <td>126.970000</td>\n",
       "      <td>0.494668</td>\n",
       "      <td>0.479088</td>\n",
       "      <td>1605.455422</td>\n",
       "      <td>1.54</td>\n",
       "      <td>10.084006</td>\n",
       "      <td>9.0383</td>\n",
       "    </tr>\n",
       "    <tr>\n",
       "      <th>28</th>\n",
       "      <td>3.0380</td>\n",
       "      <td>22045.6965</td>\n",
       "      <td>0.059603</td>\n",
       "      <td>105.150000</td>\n",
       "      <td>0.486829</td>\n",
       "      <td>0.485831</td>\n",
       "      <td>1614.844920</td>\n",
       "      <td>1.58</td>\n",
       "      <td>8.764691</td>\n",
       "      <td>9.1549</td>\n",
       "    </tr>\n",
       "    <tr>\n",
       "      <th>29</th>\n",
       "      <td>2.9164</td>\n",
       "      <td>22200.0000</td>\n",
       "      <td>0.075892</td>\n",
       "      <td>85.030000</td>\n",
       "      <td>0.479236</td>\n",
       "      <td>0.492694</td>\n",
       "      <td>1804.267241</td>\n",
       "      <td>1.26</td>\n",
       "      <td>6.715065</td>\n",
       "      <td>9.0492</td>\n",
       "    </tr>\n",
       "  </tbody>\n",
       "</table>\n",
       "</div>"
      ],
      "text/plain": [
       "     Yield    Cropland    Energy        Fert  Rural Pop  Urban Pop  \\\n",
       "0   1.9556  20603.0000  0.016774   50.660000   0.723072   0.301452   \n",
       "1   2.2534  20726.0000  0.016327   46.420002   0.718609   0.302042   \n",
       "2   2.1745  20574.0000  0.020647   54.330000   0.713454   0.302332   \n",
       "3   2.0497  20445.0000  0.022891   71.160000   0.707804   0.302387   \n",
       "4   2.3521  20538.0000  0.016827   66.939995   0.702430   0.302546   \n",
       "5   2.4158  20631.0000  0.017973   73.840000   0.698021   0.303106   \n",
       "6   2.4098  20724.0000  0.021540   75.750000   0.694821   0.304188   \n",
       "7   2.3788  20817.0000  0.028534   75.400000   0.692356   0.305585   \n",
       "8   2.4180  20909.0000  0.036329   85.030000   0.690393   0.307211   \n",
       "9   2.4244  21002.0000  0.027940   91.580000   0.688809   0.309013   \n",
       "10  2.6128  21095.0000  0.026281   80.160000   0.684960   0.313318   \n",
       "11  2.8739  21188.0000  0.030244   85.370000   0.673389   0.324936   \n",
       "12  2.9338  21281.0000  0.033156   88.979996   0.661119   0.336555   \n",
       "13  2.9339  21374.0000  0.037560  111.420000   0.648365   0.348208   \n",
       "14  2.8895  21467.0000  0.037565   97.750000   0.635296   0.359974   \n",
       "15  2.9974  21560.0000  0.040909   83.240005   0.622122   0.371863   \n",
       "16  2.9503  21653.0000  0.039902   85.320000   0.608692   0.383839   \n",
       "17  3.0441  21745.0000  0.044369   98.570000   0.594834   0.395722   \n",
       "18  2.9974  21838.0000  0.046488   91.710010   0.580752   0.407626   \n",
       "19  2.9079  21931.0000  0.052200   87.869995   0.566677   0.419583   \n",
       "20  2.9921  22024.0000  0.054922  113.990005   0.552709   0.431740   \n",
       "21  3.1867  22028.0000  0.049682  116.860000   0.543503   0.439284   \n",
       "22  3.1865  22032.0000  0.062255  114.970000   0.535190   0.445823   \n",
       "23  3.1463  22036.2654  0.057505  127.140000   0.526973   0.452395   \n",
       "24  3.0586  22042.0000  0.067616  121.170000   0.518863   0.459066   \n",
       "25  2.8506  22046.0000  0.063195  103.760000   0.510879   0.465836   \n",
       "26  2.9740  22042.0000  0.043608  112.460000   0.502792   0.472514   \n",
       "27  3.0690  22047.0000  0.048660  126.970000   0.494668   0.479088   \n",
       "28  3.0380  22045.6965  0.059603  105.150000   0.486829   0.485831   \n",
       "29  2.9164  22200.0000  0.075892   85.030000   0.479236   0.492694   \n",
       "\n",
       "          Water  Pesticide  Pesticide Import  Air Deposition of Nitrogen  \n",
       "0   2801.857667       0.91          1.503185                      6.8414  \n",
       "1   2559.945281       0.91          1.229454                      6.6988  \n",
       "2   2614.282257       0.92          1.272915                      6.9686  \n",
       "3   2440.991593       0.92          1.230838                      7.2271  \n",
       "4   2249.798274       1.00          1.463031                      7.4001  \n",
       "5   2387.660821       1.17          1.567750                      7.6855  \n",
       "6   2071.595781       1.14          2.057729                      7.9887  \n",
       "7   2345.042479       1.15          2.046642                      7.7375  \n",
       "8   2419.960932       0.92          1.556494                      8.7682  \n",
       "9   2048.445773       1.08          2.444729                      8.2513  \n",
       "10  1934.570175       0.96          2.498689                      8.2272  \n",
       "11  1954.076511       1.45          2.626778                      7.9752  \n",
       "12  1836.180279       1.92          3.297674                      7.9139  \n",
       "13  1856.321877       2.40          3.416735                      7.9106  \n",
       "14  1813.644449       3.06          4.650945                      8.9125  \n",
       "15  1911.681194       2.03          3.648075                      9.4916  \n",
       "16  1701.732209       1.90          4.706090                      8.1991  \n",
       "17  1864.368467       3.07          5.625965                      8.9677  \n",
       "18  1735.114610       3.00          5.335703                      8.3495  \n",
       "19  1751.082915       3.10          5.771591                      8.7588  \n",
       "20  1915.324183       3.13          5.887516                      9.0397  \n",
       "21  1547.424761       3.96          7.752465                      8.6757  \n",
       "22  1683.856891       3.17          7.415428                      9.0002  \n",
       "23  1653.161377       0.37          9.011216                      9.2912  \n",
       "24  1690.979867       0.99          8.707670                      8.9204  \n",
       "25  1911.477882       1.19          7.846356                      8.7811  \n",
       "26  1850.208600       1.39          8.193907                      8.9008  \n",
       "27  1605.455422       1.54         10.084006                      9.0383  \n",
       "28  1614.844920       1.58          8.764691                      9.1549  \n",
       "29  1804.267241       1.26          6.715065                      9.0492  "
      ]
     },
     "metadata": {},
     "output_type": "display_data"
    }
   ],
   "source": [
    "df_THAI = pd.DataFrame()\n",
    "df_THAI[\"Yield\"] = df_rice_y[\"Thailand Rice Yield\"]\n",
    "df_THAI[\"Cropland\"] = df_cropland[\"Thailand Crop Land\"]\n",
    "df_THAI[\"Energy\"] = df_energy[\"Thailand energy/cropland\"]\n",
    "df_THAI[\"Fert\"] = df_fert_use[\"Thailand\"]\n",
    "df_THAI[\"Rural Pop\"] = df_pop[\"thailand rural/total\"]\n",
    "df_THAI[\"Urban Pop\"] = df_pop[\"thailand urban/total\"]\n",
    "df_THAI[\"Water\"] = df_water[\"wf_tot_m3_t_thailand\"]\n",
    "df_THAI[\"Pesticide\"] = df_pesticide[\"Thailand Pesticide\"]\n",
    "df_THAI[\"Pesticide Import\"] = df_pesticide_imports[\"Thailand\"]\n",
    "df_THAI[\"Air Deposition of Nitrogen\"] = df_air_dep[\"Thailand Air Deposition of Nitrogen\"]\n",
    "\n",
    "display(df_THAI)"
   ]
  },
  {
   "cell_type": "code",
   "execution_count": 5,
   "id": "74ac6908",
   "metadata": {},
   "outputs": [],
   "source": [
    "###Energy vs Yield\n",
    "\n",
    "# Extract the features and the target\n",
    "df_features, df_target = get_features_targets(df_THAI,[\"Energy\"],[\"Yield\"])\n",
    "\n",
    "# Split the data set into training and test\n",
    "df_features_train, df_features_test, df_target_train, df_target_test = split_data(df_features, df_target, random_state = 100, test_size = 0.3)\n",
    "\n",
    "# Normalize the features using z normalization\n",
    "array_features_train_z, means, stds = normalize_z(df_features_train)\n",
    "\n",
    "# Change the features and the target to numpy array using the prepare functions\n",
    "\n",
    "X: np.ndarray = prepare_feature(array_features_train_z)\n",
    "target: np.ndarray = df_target_train.to_numpy()\n",
    "\n",
    "iterations: int = 1500\n",
    "alpha: float = 0.01\n",
    "beta: np.ndarray = np.zeros((2,1))\n",
    "\n",
    "# Call the gradient_descent function\n",
    "beta, J_storage = gradient_descent_linreg(X, target, beta, alpha,iterations)\n",
    "\n",
    "# call the predict() method\n",
    "pred: np.ndarray = predict_linreg(df_features_test,beta, means,stds)\n",
    "    \n",
    "#print(pred)\n",
    "#print(beta)"
   ]
  },
  {
   "cell_type": "code",
   "execution_count": 6,
   "id": "d5f6e046",
   "metadata": {},
   "outputs": [
    {
     "data": {
      "text/plain": [
       "[<matplotlib.lines.Line2D at 0x1d01802a950>]"
      ]
     },
     "execution_count": 6,
     "metadata": {},
     "output_type": "execute_result"
    },
    {
     "data": {
      "image/png": "[encoded data removed]",
      "text/plain": [
       "<Figure size 640x480 with 1 Axes>"
      ]
     },
     "metadata": {},
     "output_type": "display_data"
    }
   ],
   "source": [
    "plt.scatter(df_features_test, df_target_test)\n",
    "plt.plot(df_features_test, pred, color=\"orange\")"
   ]
  },
  {
   "cell_type": "code",
   "execution_count": 7,
   "id": "bc5dd434",
   "metadata": {},
   "outputs": [
    {
     "name": "stdout",
     "output_type": "stream",
     "text": [
      "r2: 0.4496550099128842\n",
      "adj_r_squared: 0.37103429704329627\n",
      "mse: 0.03889659383542172\n",
      "mae: 0.1663200861726006\n"
     ]
    }
   ],
   "source": [
    "# change target test set to a numpy array\n",
    "target: np.ndarray = df_target_test.to_numpy()\n",
    "\n",
    "# Calculate r2 score by calling a function\n",
    "r2: float = r2_score(target, pred)\n",
    "    \n",
    "# Calculate adj r2\n",
    "#Set the n and k\n",
    "n = 9\n",
    "k = 1\n",
    "adj_r2: float = adj_r_squared(n,k,target,pred)\n",
    "\n",
    "# Calculate the mse\n",
    "mse: float = np.mean((target-pred)**2)\n",
    "    \n",
    "# Calculate the mae\n",
    "mae: float = np.mean(np.absolute(target-pred))\n",
    "    \n",
    "print(f\"r2: {r2}\")\n",
    "print(f\"adj_r_squared: {adj_r2}\")\n",
    "print(f\"mse: {mse}\")\n",
    "print(f\"mae: {mae}\")"
   ]
  },
  {
   "cell_type": "code",
   "execution_count": 8,
   "id": "b9f9115f",
   "metadata": {},
   "outputs": [],
   "source": [
    "###Fert vs Yield\n",
    "\n",
    "# Extract the features and the target\n",
    "df_features, df_target = get_features_targets(df_THAI,[\"Fert\"],[\"Yield\"])\n",
    "\n",
    "# Split the data set into training and test\n",
    "df_features_train, df_features_test, df_target_train, df_target_test = split_data(df_features, df_target, random_state = 100, test_size = 0.3)\n",
    "\n",
    "# Normalize the features using z normalization\n",
    "array_features_train_z, means, stds = normalize_z(df_features_train)\n",
    "\n",
    "# Change the features and the target to numpy array using the prepare functions\n",
    "\n",
    "X: np.ndarray = prepare_feature(array_features_train_z)\n",
    "target: np.ndarray = df_target_train.to_numpy()\n",
    "\n",
    "iterations: int = 1500\n",
    "alpha: float = 0.01\n",
    "beta: np.ndarray = np.zeros((2,1))\n",
    "\n",
    "# Call the gradient_descent function\n",
    "beta, J_storage = gradient_descent_linreg(X, target, beta, alpha,iterations)\n",
    "\n",
    "# call the predict() method\n",
    "pred: np.ndarray = predict_linreg(df_features_test,beta, means,stds)\n",
    "    \n",
    "#print(pred)\n",
    "#print(beta)"
   ]
  },
  {
   "cell_type": "code",
   "execution_count": 9,
   "id": "cf518b65",
   "metadata": {},
   "outputs": [
    {
     "data": {
      "text/plain": [
       "[<matplotlib.lines.Line2D at 0x1d018a0a410>]"
      ]
     },
     "execution_count": 9,
     "metadata": {},
     "output_type": "execute_result"
    },
    {
     "data": {
      "image/png": "[encoded data removed]",
      "text/plain": [
       "<Figure size 640x480 with 1 Axes>"
      ]
     },
     "metadata": {},
     "output_type": "display_data"
    }
   ],
   "source": [
    "plt.scatter(df_features_test, df_target_test)\n",
    "plt.plot(df_features_test, pred, color=\"orange\")"
   ]
  },
  {
   "cell_type": "code",
   "execution_count": 10,
   "id": "622a4a04",
   "metadata": {},
   "outputs": [
    {
     "name": "stdout",
     "output_type": "stream",
     "text": [
      "r2: 0.49261335039781995\n",
      "adj_r_squared: 0.4201295433117942\n",
      "mse: 0.03586043805716742\n",
      "mae: 0.16743957728579378\n"
     ]
    }
   ],
   "source": [
    "# change target test set to a numpy array\n",
    "target: np.ndarray = df_target_test.to_numpy()\n",
    "\n",
    "# Calculate r2 score by calling a function\n",
    "r2: float = r2_score(target, pred)\n",
    "    \n",
    "# Calculate adj r2\n",
    "#Set the n and k\n",
    "n = 9\n",
    "k = 1\n",
    "adj_r2: float = adj_r_squared(n,k,target,pred)\n",
    "\n",
    "# Calculate the mse\n",
    "mse: float = np.mean((target-pred)**2)\n",
    "    \n",
    "# Calculate the mae\n",
    "mae: float = np.mean(np.absolute(target-pred))\n",
    "    \n",
    "print(f\"r2: {r2}\")\n",
    "print(f\"adj_r_squared: {adj_r2}\")\n",
    "print(f\"mse: {mse}\")\n",
    "print(f\"mae: {mae}\")"
   ]
  },
  {
   "cell_type": "code",
   "execution_count": 11,
   "id": "aa4864f9",
   "metadata": {},
   "outputs": [],
   "source": [
    "###Rural Pop vs Yield\n",
    "\n",
    "# Extract the features and the target\n",
    "df_features, df_target = get_features_targets(df_THAI,[\"Rural Pop\"],[\"Yield\"])\n",
    "\n",
    "# Split the data set into training and test\n",
    "df_features_train, df_features_test, df_target_train, df_target_test = split_data(df_features, df_target, random_state = 100, test_size = 0.3)\n",
    "\n",
    "# Normalize the features using z normalization\n",
    "array_features_train_z, means, stds = normalize_z(df_features_train)\n",
    "\n",
    "# Change the features and the target to numpy array using the prepare functions\n",
    "\n",
    "X: np.ndarray = prepare_feature(array_features_train_z)\n",
    "target: np.ndarray = df_target_train.to_numpy()\n",
    "\n",
    "iterations: int = 1500\n",
    "alpha: float = 0.01\n",
    "beta: np.ndarray = np.zeros((2,1))\n",
    "\n",
    "# Call the gradient_descent function\n",
    "beta, J_storage = gradient_descent_linreg(X, target, beta, alpha,iterations)\n",
    "\n",
    "# call the predict() method\n",
    "pred: np.ndarray = predict_linreg(df_features_test,beta, means,stds)\n",
    "    \n",
    "#print(pred)\n",
    "#print(beta)"
   ]
  },
  {
   "cell_type": "code",
   "execution_count": 12,
   "id": "b42234c9",
   "metadata": {},
   "outputs": [
    {
     "data": {
      "text/plain": [
       "[<matplotlib.lines.Line2D at 0x1d018a6a290>]"
      ]
     },
     "execution_count": 12,
     "metadata": {},
     "output_type": "execute_result"
    },
    {
     "data": {
      "image/png": "[encoded data removed]",
      "text/plain": [
       "<Figure size 640x480 with 1 Axes>"
      ]
     },
     "metadata": {},
     "output_type": "display_data"
    }
   ],
   "source": [
    "plt.scatter(df_features_test, df_target_test)\n",
    "plt.plot(df_features_test, pred, color=\"orange\")"
   ]
  },
  {
   "cell_type": "code",
   "execution_count": 13,
   "id": "827efd24",
   "metadata": {},
   "outputs": [
    {
     "name": "stdout",
     "output_type": "stream",
     "text": [
      "r2: 0.08879951801722008\n",
      "adj_r_squared: -0.04137197940889137\n",
      "mse: 0.0644006862762835\n",
      "mae: 0.2081284816826441\n"
     ]
    }
   ],
   "source": [
    "# change target test set to a numpy array\n",
    "target: np.ndarray = df_target_test.to_numpy()\n",
    "\n",
    "# Calculate r2 score by calling a function\n",
    "r2: float = r2_score(target, pred)\n",
    "    \n",
    "# Calculate adj r2\n",
    "#Set the n and k\n",
    "n = 9\n",
    "k = 1\n",
    "adj_r2: float = adj_r_squared(n,k,target,pred)\n",
    "\n",
    "# Calculate the mse\n",
    "mse: float = np.mean((target-pred)**2)\n",
    "    \n",
    "# Calculate the mae\n",
    "mae: float = np.mean(np.absolute(target-pred))\n",
    "    \n",
    "print(f\"r2: {r2}\")\n",
    "print(f\"adj_r_squared: {adj_r2}\")\n",
    "print(f\"mse: {mse}\")\n",
    "print(f\"mae: {mae}\")"
   ]
  },
  {
   "cell_type": "code",
   "execution_count": 14,
   "id": "201f8786",
   "metadata": {},
   "outputs": [],
   "source": [
    "###Urban Pop vs Yield\n",
    "\n",
    "# Extract the features and the target\n",
    "df_features, df_target = get_features_targets(df_THAI,[\"Urban Pop\"],[\"Yield\"])\n",
    "\n",
    "# Split the data set into training and test\n",
    "df_features_train, df_features_test, df_target_train, df_target_test = split_data(df_features, df_target, random_state = 100, test_size = 0.3)\n",
    "\n",
    "# Normalize the features using z normalization\n",
    "array_features_train_z, means, stds = normalize_z(df_features_train)\n",
    "\n",
    "# Change the features and the target to numpy array using the prepare functions\n",
    "\n",
    "X: np.ndarray = prepare_feature(array_features_train_z)\n",
    "target: np.ndarray = df_target_train.to_numpy()\n",
    "\n",
    "iterations: int = 1500\n",
    "alpha: float = 0.01\n",
    "beta: np.ndarray = np.zeros((2,1))\n",
    "\n",
    "# Call the gradient_descent function\n",
    "beta, J_storage = gradient_descent_linreg(X, target, beta, alpha,iterations)\n",
    "\n",
    "# call the predict() method\n",
    "pred: np.ndarray = predict_linreg(df_features_test,beta, means,stds)\n",
    "    \n",
    "#print(pred)\n",
    "#print(beta)"
   ]
  },
  {
   "cell_type": "code",
   "execution_count": 15,
   "id": "f4d4791a",
   "metadata": {},
   "outputs": [
    {
     "data": {
      "text/plain": [
       "[<matplotlib.lines.Line2D at 0x1d0181ca8d0>]"
      ]
     },
     "execution_count": 15,
     "metadata": {},
     "output_type": "execute_result"
    },
    {
     "data": {
      "image/png": "[encoded data removed]",
      "text/plain": [
       "<Figure size 640x480 with 1 Axes>"
      ]
     },
     "metadata": {},
     "output_type": "display_data"
    }
   ],
   "source": [
    "plt.scatter(df_features_test, df_target_test)\n",
    "plt.plot(df_features_test, pred, color=\"orange\")"
   ]
  },
  {
   "cell_type": "code",
   "execution_count": 16,
   "id": "92f79d81",
   "metadata": {},
   "outputs": [
    {
     "name": "stdout",
     "output_type": "stream",
     "text": [
      "r2: 0.09922804647302597\n",
      "adj_r_squared: -0.029453661173684642\n",
      "mse: 0.06366363180508278\n",
      "mae: 0.21085189297797674\n"
     ]
    }
   ],
   "source": [
    "# change target test set to a numpy array\n",
    "target: np.ndarray = df_target_test.to_numpy()\n",
    "\n",
    "# Calculate r2 score by calling a function\n",
    "r2: float = r2_score(target, pred)\n",
    "    \n",
    "# Calculate adj r2\n",
    "#Set the n and k\n",
    "n = 9\n",
    "k = 1\n",
    "adj_r2: float = adj_r_squared(n,k,target,pred)\n",
    "\n",
    "# Calculate the mse\n",
    "mse: float = np.mean((target-pred)**2)\n",
    "    \n",
    "# Calculate the mae\n",
    "mae: float = np.mean(np.absolute(target-pred))\n",
    "    \n",
    "print(f\"r2: {r2}\")\n",
    "print(f\"adj_r_squared: {adj_r2}\")\n",
    "print(f\"mse: {mse}\")\n",
    "print(f\"mae: {mae}\")"
   ]
  },
  {
   "cell_type": "code",
   "execution_count": 17,
   "id": "444625e6",
   "metadata": {},
   "outputs": [],
   "source": [
    "###Water vs Yield\n",
    "\n",
    "# Extract the features and the target\n",
    "df_features, df_target = get_features_targets(df_THAI,[\"Water\"],[\"Yield\"])\n",
    "\n",
    "# Split the data set into training and test\n",
    "df_features_train, df_features_test, df_target_train, df_target_test = split_data(df_features, df_target, random_state = 100, test_size = 0.3)\n",
    "\n",
    "# Normalize the features using z normalization\n",
    "array_features_train_z, means, stds = normalize_z(df_features_train)\n",
    "\n",
    "# Change the features and the target to numpy array using the prepare functions\n",
    "\n",
    "X: np.ndarray = prepare_feature(array_features_train_z)\n",
    "target: np.ndarray = df_target_train.to_numpy()\n",
    "\n",
    "iterations: int = 1500\n",
    "alpha: float = 0.01\n",
    "beta: np.ndarray = np.zeros((2,1))\n",
    "\n",
    "# Call the gradient_descent function\n",
    "beta, J_storage = gradient_descent_linreg(X, target, beta, alpha,iterations)\n",
    "\n",
    "# call the predict() method\n",
    "pred: np.ndarray = predict_linreg(df_features_test,beta, means,stds)\n",
    "    \n",
    "#print(pred)\n",
    "#print(beta)"
   ]
  },
  {
   "cell_type": "code",
   "execution_count": 18,
   "id": "cfed3753",
   "metadata": {},
   "outputs": [
    {
     "data": {
      "text/plain": [
       "[<matplotlib.lines.Line2D at 0x1d018287a10>]"
      ]
     },
     "execution_count": 18,
     "metadata": {},
     "output_type": "execute_result"
    },
    {
     "data": {
      "image/png": "[encoded data removed]",
      "text/plain": [
       "<Figure size 640x480 with 1 Axes>"
      ]
     },
     "metadata": {},
     "output_type": "display_data"
    }
   ],
   "source": [
    "plt.scatter(df_features_test, df_target_test)\n",
    "plt.plot(df_features_test, pred, color=\"orange\")"
   ]
  },
  {
   "cell_type": "code",
   "execution_count": 19,
   "id": "ec5509fa",
   "metadata": {},
   "outputs": [
    {
     "name": "stdout",
     "output_type": "stream",
     "text": [
      "r2: 0.7222735534934854\n",
      "adj_r_squared: 0.6825983468496977\n",
      "mse: 0.01962880190007525\n",
      "mae: 0.10357594901740835\n"
     ]
    }
   ],
   "source": [
    "# change target test set to a numpy array\n",
    "target: np.ndarray = df_target_test.to_numpy()\n",
    "\n",
    "# Calculate r2 score by calling a function\n",
    "r2: float = r2_score(target, pred)\n",
    "    \n",
    "# Calculate adj r2\n",
    "#Set the n and k\n",
    "n = 9\n",
    "k = 1\n",
    "adj_r2: float = adj_r_squared(n,k,target,pred)\n",
    "\n",
    "# Calculate the mse\n",
    "mse: float = np.mean((target-pred)**2)\n",
    "    \n",
    "# Calculate the mae\n",
    "mae: float = np.mean(np.absolute(target-pred))\n",
    "    \n",
    "print(f\"r2: {r2}\")\n",
    "print(f\"adj_r_squared: {adj_r2}\")\n",
    "print(f\"mse: {mse}\")\n",
    "print(f\"mae: {mae}\")"
   ]
  },
  {
   "cell_type": "code",
   "execution_count": 20,
   "id": "2805b823",
   "metadata": {},
   "outputs": [],
   "source": [
    "###Pesticide vs Yield\n",
    "\n",
    "# Extract the features and the target\n",
    "df_features, df_target = get_features_targets(df_THAI,[\"Pesticide\"],[\"Yield\"])\n",
    "\n",
    "# Split the data set into training and test\n",
    "df_features_train, df_features_test, df_target_train, df_target_test = split_data(df_features, df_target, random_state = 100, test_size = 0.3)\n",
    "\n",
    "# Normalize the features using z normalization\n",
    "array_features_train_z, means, stds = normalize_z(df_features_train)\n",
    "\n",
    "# Change the features and the target to numpy array using the prepare functions\n",
    "\n",
    "X: np.ndarray = prepare_feature(array_features_train_z)\n",
    "target: np.ndarray = df_target_train.to_numpy()\n",
    "\n",
    "iterations: int = 1500\n",
    "alpha: float = 0.01\n",
    "beta: np.ndarray = np.zeros((2,1))\n",
    "\n",
    "# Call the gradient_descent function\n",
    "beta, J_storage = gradient_descent_linreg(X, target, beta, alpha,iterations)\n",
    "\n",
    "# call the predict() method\n",
    "pred: np.ndarray = predict_linreg(df_features_test,beta, means,stds)\n",
    "    \n",
    "#print(pred)\n",
    "#print(beta)"
   ]
  },
  {
   "cell_type": "code",
   "execution_count": 21,
   "id": "63870154",
   "metadata": {},
   "outputs": [
    {
     "data": {
      "text/plain": [
       "[<matplotlib.lines.Line2D at 0x1d018bea410>]"
      ]
     },
     "execution_count": 21,
     "metadata": {},
     "output_type": "execute_result"
    },
    {
     "data": {
      "image/png": "[encoded data removed]",
      "text/plain": [
       "<Figure size 640x480 with 1 Axes>"
      ]
     },
     "metadata": {},
     "output_type": "display_data"
    }
   ],
   "source": [
    "plt.scatter(df_features_test, df_target_test)\n",
    "plt.plot(df_features_test, pred, color=\"orange\")"
   ]
  },
  {
   "cell_type": "code",
   "execution_count": 22,
   "id": "7f4f2541",
   "metadata": {},
   "outputs": [
    {
     "name": "stdout",
     "output_type": "stream",
     "text": [
      "r2: 0.07387342794538465\n",
      "adj_r_squared: -0.05843036806241764\n",
      "mse: 0.06545561377363966\n",
      "mae: 0.23254528470587857\n"
     ]
    }
   ],
   "source": [
    "# change target test set to a numpy array\n",
    "target: np.ndarray = df_target_test.to_numpy()\n",
    "\n",
    "# Calculate r2 score by calling a function\n",
    "r2: float = r2_score(target, pred)\n",
    "    \n",
    "# Calculate adj r2\n",
    "#Set the n and k\n",
    "n = 9\n",
    "k = 1\n",
    "adj_r2: float = adj_r_squared(n,k,target,pred)\n",
    "\n",
    "# Calculate the mse\n",
    "mse: float = np.mean((target-pred)**2)\n",
    "    \n",
    "# Calculate the mae\n",
    "mae: float = np.mean(np.absolute(target-pred))\n",
    "    \n",
    "print(f\"r2: {r2}\")\n",
    "print(f\"adj_r_squared: {adj_r2}\")\n",
    "print(f\"mse: {mse}\")\n",
    "print(f\"mae: {mae}\")"
   ]
  },
  {
   "cell_type": "code",
   "execution_count": 23,
   "id": "b4d1d903",
   "metadata": {},
   "outputs": [],
   "source": [
    "###Pesticide Import vs Yield\n",
    "\n",
    "# Extract the features and the target\n",
    "df_features, df_target = get_features_targets(df_THAI,[\"Pesticide Import\"],[\"Yield\"])\n",
    "\n",
    "# Split the data set into training and test\n",
    "df_features_train, df_features_test, df_target_train, df_target_test = split_data(df_features, df_target, random_state = 100, test_size = 0.3)\n",
    "\n",
    "# Normalize the features using z normalization\n",
    "array_features_train_z, means, stds = normalize_z(df_features_train)\n",
    "\n",
    "# Change the features and the target to numpy array using the prepare functions\n",
    "\n",
    "X: np.ndarray = prepare_feature(array_features_train_z)\n",
    "target: np.ndarray = df_target_train.to_numpy()\n",
    "\n",
    "iterations: int = 1500\n",
    "alpha: float = 0.01\n",
    "beta: np.ndarray = np.zeros((2,1))\n",
    "\n",
    "# Call the gradient_descent function\n",
    "beta, J_storage = gradient_descent_linreg(X, target, beta, alpha,iterations)\n",
    "\n",
    "# call the predict() method\n",
    "pred: np.ndarray = predict_linreg(df_features_test,beta, means,stds)\n",
    "    \n",
    "#print(pred)\n",
    "#print(beta)"
   ]
  },
  {
   "cell_type": "code",
   "execution_count": 24,
   "id": "d2ec0169",
   "metadata": {},
   "outputs": [
    {
     "data": {
      "text/plain": [
       "[<matplotlib.lines.Line2D at 0x1d018c730d0>]"
      ]
     },
     "execution_count": 24,
     "metadata": {},
     "output_type": "execute_result"
    },
    {
     "data": {
      "image/png": "[encoded data removed]",
      "text/plain": [
       "<Figure size 640x480 with 1 Axes>"
      ]
     },
     "metadata": {},
     "output_type": "display_data"
    }
   ],
   "source": [
    "plt.scatter(df_features_test, df_target_test)\n",
    "plt.plot(df_features_test, pred, color=\"orange\")"
   ]
  },
  {
   "cell_type": "code",
   "execution_count": 25,
   "id": "7a1f52bf",
   "metadata": {},
   "outputs": [],
   "source": [
    "#print(df_target_test)\n",
    "#print(pred)\n",
    "#print(np.mean(target))\n",
    "#print(beta)\n",
    "#print(df_features_test)"
   ]
  },
  {
   "cell_type": "code",
   "execution_count": 26,
   "id": "1b947125",
   "metadata": {},
   "outputs": [
    {
     "name": "stdout",
     "output_type": "stream",
     "text": [
      "r2: -0.033083188937942376\n",
      "adj_r_squared: -0.18066650164336262\n",
      "mse: 0.07301495956556382\n",
      "mae: 0.23160110647697685\n"
     ]
    }
   ],
   "source": [
    "# change target test set to a numpy array\n",
    "target: np.ndarray = df_target_test.to_numpy()\n",
    "\n",
    "# Calculate r2 score by calling a function\n",
    "r2: float = r2_score(target, pred)\n",
    "    \n",
    "# Calculate adj r2\n",
    "#Set the n and k\n",
    "n = 9\n",
    "k = 1\n",
    "adj_r2: float = adj_r_squared(n,k,target,pred)\n",
    "\n",
    "# Calculate the mse\n",
    "mse: float = np.mean((target-pred)**2)\n",
    "    \n",
    "# Calculate the mae\n",
    "mae: float = np.mean(np.absolute(target-pred))\n",
    "    \n",
    "print(f\"r2: {r2}\")\n",
    "print(f\"adj_r_squared: {adj_r2}\")\n",
    "print(f\"mse: {mse}\")\n",
    "print(f\"mae: {mae}\")"
   ]
  },
  {
   "cell_type": "code",
   "execution_count": 27,
   "id": "eb8cf422",
   "metadata": {},
   "outputs": [],
   "source": [
    "###Air Deposition of Nitrogen vs Yield\n",
    "\n",
    "# Extract the features and the target\n",
    "df_features, df_target = get_features_targets(df_THAI,[\"Air Deposition of Nitrogen\"],[\"Yield\"])\n",
    "\n",
    "# Split the data set into training and test\n",
    "df_features_train, df_features_test, df_target_train, df_target_test = split_data(df_features, df_target, random_state = 100, test_size = 0.3)\n",
    "\n",
    "# Normalize the features using z normalization\n",
    "array_features_train_z, means, stds = normalize_z(df_features_train)\n",
    "\n",
    "# Change the features and the target to numpy array using the prepare functions\n",
    "\n",
    "X: np.ndarray = prepare_feature(array_features_train_z)\n",
    "target: np.ndarray = df_target_train.to_numpy()\n",
    "\n",
    "iterations: int = 1500\n",
    "alpha: float = 0.01\n",
    "beta: np.ndarray = np.zeros((2,1))\n",
    "\n",
    "# Call the gradient_descent function\n",
    "beta, J_storage = gradient_descent_linreg(X, target, beta, alpha,iterations)\n",
    "\n",
    "# call the predict() method\n",
    "pred: np.ndarray = predict_linreg(df_features_test,beta, means,stds)\n",
    "    \n",
    "#print(pred)\n",
    "#print(beta)"
   ]
  },
  {
   "cell_type": "code",
   "execution_count": 28,
   "id": "c6bef4ce",
   "metadata": {},
   "outputs": [
    {
     "data": {
      "text/plain": [
       "[<matplotlib.lines.Line2D at 0x1d019cc28d0>]"
      ]
     },
     "execution_count": 28,
     "metadata": {},
     "output_type": "execute_result"
    },
    {
     "data": {
      "image/png": "[encoded data removed]",
      "text/plain": [
       "<Figure size 640x480 with 1 Axes>"
      ]
     },
     "metadata": {},
     "output_type": "display_data"
    }
   ],
   "source": [
    "plt.scatter(df_features_test, df_target_test)\n",
    "plt.plot(df_features_test, pred, color=\"orange\")"
   ]
  },
  {
   "cell_type": "code",
   "execution_count": 29,
   "id": "f65a0975",
   "metadata": {},
   "outputs": [
    {
     "name": "stdout",
     "output_type": "stream",
     "text": [
      "r2: 0.38446470458994186\n",
      "adj_r_squared: 0.2965310909599336\n",
      "mse: 0.04350403257625997\n",
      "mae: 0.15756011875744935\n"
     ]
    }
   ],
   "source": [
    "# change target test set to a numpy array\n",
    "target: np.ndarray = df_target_test.to_numpy()\n",
    "\n",
    "# Calculate r2 score by calling a function\n",
    "r2: float = r2_score(target, pred)\n",
    "    \n",
    "# Calculate adj r2\n",
    "#Set the n and k\n",
    "n = 9\n",
    "k = 1\n",
    "adj_r2: float = adj_r_squared(n,k,target,pred)\n",
    "\n",
    "# Calculate the mse\n",
    "mse: float = np.mean((target-pred)**2)\n",
    "    \n",
    "# Calculate the mae\n",
    "mae: float = np.mean(np.absolute(target-pred))\n",
    "    \n",
    "print(f\"r2: {r2}\")\n",
    "print(f\"adj_r_squared: {adj_r2}\")\n",
    "print(f\"mse: {mse}\")\n",
    "print(f\"mae: {mae}\")"
   ]
  },
  {
   "cell_type": "code",
   "execution_count": null,
   "id": "0ec200b2",
   "metadata": {},
   "outputs": [],
   "source": []
  }
 ],
 "metadata": {
  "kernelspec": {
   "display_name": "Python 3 (ipykernel)",
   "language": "python",
   "name": "python3"
  },
  "language_info": {
   "codemirror_mode": {
    "name": "ipython",
    "version": 3
   },
   "file_extension": ".py",
   "mimetype": "text/x-python",
   "name": "python",
   "nbconvert_exporter": "python",
   "pygments_lexer": "ipython3",
   "version": "3.11.5"
  }
 },
 "nbformat": 4,
 "nbformat_minor": 5
}
