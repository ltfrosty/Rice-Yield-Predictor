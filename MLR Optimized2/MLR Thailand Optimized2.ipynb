{
 "cells": [
  {
   "cell_type": "code",
   "execution_count": 1,
   "metadata": {},
   "outputs": [],
   "source": [
    "###Based on the Single Variable Linear Regressions that we did. We drop independent variables that have r^2 values less than 0.5.\n",
    "\n",
    "###For Thailand:\n",
    "#Energy vs Rice Yield. r^2 = 0.4496550099128842\n",
    "#Fert vs Rice Yield. r^2 = 0.49261335039781995 (We opted to accept this independent variable since it is a borderline case.)\n",
    "#Rural Pop vs Rice Yield. r^2 = 0.08879951801722008\n",
    "#Urban Pop vs Rice Yield. r^2 = 0.09922804647302597\n",
    "#Pesticide vs Rice Yield. r^2 = 0.07387342794538465\n",
    "#Pesticide Import vs Rice Yield. r^2 = -0.033083188937942376\n",
    "#Air Deposition of Nitrogen vs Rice Yield. r^2 = 0.38446470458994186\n",
    "\n",
    "###adj r^2: 0.6594796544304842 (before) => 0.7117769873331239 (after)"
   ]
  },
  {
   "cell_type": "code",
   "execution_count": null,
   "metadata": {},
   "outputs": [],
   "source": [
    "###No changes made because both rural and urban pop are removed."
   ]
  },
  {
   "cell_type": "code",
   "execution_count": 2,
   "metadata": {
    "datalore": {
     "hide_input_from_viewers": false,
     "hide_output_from_viewers": false,
     "node_id": "b5juMZrSeZP621dSGAD5gR",
     "report_properties": {
      "rowId": "Oc5xzVwxXTTdTxmE0UpayM"
     },
     "type": "CODE"
    }
   },
   "outputs": [],
   "source": [
    "import pandas as pd\n",
    "import matplotlib.pyplot as plt\n",
    "import copy\n",
    "%run MLR_Functions.ipynb"
   ]
  },
  {
   "cell_type": "code",
   "execution_count": 3,
   "metadata": {},
   "outputs": [],
   "source": [
    "df_rice_y = pd.read_csv(\"/Users/yxlsa/Desktop/SUTD/DTPIII/Cleaned Data/df_crop_yield.csv\")\n",
    "df_fert_use = pd.read_csv(\"/Users/yxlsa/Desktop/SUTD/DTPIII/Cleaned Data/df_fertilizer_usage.csv\")\n",
    "df_cropland = pd.read_csv(\"/Users/yxlsa/Desktop/SUTD/DTPIII/Cleaned Data/df_cropland.csv\")\n",
    "#df_energy = pd.read_csv(\"/Users/yxlsa/Desktop/SUTD/DTPIII/Cleaned Data/df_energy_usage.csv\")\n",
    "#df_pop = pd.read_csv(\"/Users/yxlsa/Desktop/SUTD/DTPIII/Cleaned Data/df_urban_rural_pop.csv\")\n",
    "df_water = pd.read_csv(\"/Users/yxlsa/Desktop/SUTD/DTPIII/Cleaned Data/df_water_usage.csv\")\n",
    "#df_pesticide = pd.read_csv(\"/Users/yxlsa/Desktop/SUTD/DTPIII/Cleaned Data/df_pesticide_usage.csv\")\n",
    "#df_pesticide_imports = pd.read_csv(\"/Users/yxlsa/Desktop/SUTD/DTPIII/Cleaned Data/df_pesticide_imports.csv\")\n",
    "#df_air_dep = pd.read_csv(\"/Users/yxlsa/Desktop/SUTD/DTPIII/Cleaned Data/df_air_deposition_nitrogen.csv\")"
   ]
  },
  {
   "cell_type": "code",
   "execution_count": 4,
   "metadata": {
    "datalore": {
     "hide_input_from_viewers": false,
     "hide_output_from_viewers": false,
     "node_id": "ofr8vQtJzUJDzaCSmdWQh9",
     "report_properties": {
      "rowId": "faxBl2jwdWqkGcoejHniYP"
     },
     "type": "CODE"
    }
   },
   "outputs": [
    {
     "data": {
      "text/html": [
       "<div>\n",
       "<style scoped>\n",
       "    .dataframe tbody tr th:only-of-type {\n",
       "        vertical-align: middle;\n",
       "    }\n",
       "\n",
       "    .dataframe tbody tr th {\n",
       "        vertical-align: top;\n",
       "    }\n",
       "\n",
       "    .dataframe thead th {\n",
       "        text-align: right;\n",
       "    }\n",
       "</style>\n",
       "<table border=\"1\" class=\"dataframe\">\n",
       "  <thead>\n",
       "    <tr style=\"text-align: right;\">\n",
       "      <th></th>\n",
       "      <th>Yield</th>\n",
       "      <th>Cropland</th>\n",
       "      <th>Fert</th>\n",
       "      <th>Water</th>\n",
       "    </tr>\n",
       "  </thead>\n",
       "  <tbody>\n",
       "    <tr>\n",
       "      <th>0</th>\n",
       "      <td>1.9556</td>\n",
       "      <td>20603.0000</td>\n",
       "      <td>50.660000</td>\n",
       "      <td>2801.857667</td>\n",
       "    </tr>\n",
       "    <tr>\n",
       "      <th>1</th>\n",
       "      <td>2.2534</td>\n",
       "      <td>20726.0000</td>\n",
       "      <td>46.420002</td>\n",
       "      <td>2559.945281</td>\n",
       "    </tr>\n",
       "    <tr>\n",
       "      <th>2</th>\n",
       "      <td>2.1745</td>\n",
       "      <td>20574.0000</td>\n",
       "      <td>54.330000</td>\n",
       "      <td>2614.282257</td>\n",
       "    </tr>\n",
       "    <tr>\n",
       "      <th>3</th>\n",
       "      <td>2.0497</td>\n",
       "      <td>20445.0000</td>\n",
       "      <td>71.160000</td>\n",
       "      <td>2440.991593</td>\n",
       "    </tr>\n",
       "    <tr>\n",
       "      <th>4</th>\n",
       "      <td>2.3521</td>\n",
       "      <td>20538.0000</td>\n",
       "      <td>66.939995</td>\n",
       "      <td>2249.798274</td>\n",
       "    </tr>\n",
       "    <tr>\n",
       "      <th>5</th>\n",
       "      <td>2.4158</td>\n",
       "      <td>20631.0000</td>\n",
       "      <td>73.840000</td>\n",
       "      <td>2387.660821</td>\n",
       "    </tr>\n",
       "    <tr>\n",
       "      <th>6</th>\n",
       "      <td>2.4098</td>\n",
       "      <td>20724.0000</td>\n",
       "      <td>75.750000</td>\n",
       "      <td>2071.595781</td>\n",
       "    </tr>\n",
       "    <tr>\n",
       "      <th>7</th>\n",
       "      <td>2.3788</td>\n",
       "      <td>20817.0000</td>\n",
       "      <td>75.400000</td>\n",
       "      <td>2345.042479</td>\n",
       "    </tr>\n",
       "    <tr>\n",
       "      <th>8</th>\n",
       "      <td>2.4180</td>\n",
       "      <td>20909.0000</td>\n",
       "      <td>85.030000</td>\n",
       "      <td>2419.960932</td>\n",
       "    </tr>\n",
       "    <tr>\n",
       "      <th>9</th>\n",
       "      <td>2.4244</td>\n",
       "      <td>21002.0000</td>\n",
       "      <td>91.580000</td>\n",
       "      <td>2048.445773</td>\n",
       "    </tr>\n",
       "    <tr>\n",
       "      <th>10</th>\n",
       "      <td>2.6128</td>\n",
       "      <td>21095.0000</td>\n",
       "      <td>80.160000</td>\n",
       "      <td>1934.570175</td>\n",
       "    </tr>\n",
       "    <tr>\n",
       "      <th>11</th>\n",
       "      <td>2.8739</td>\n",
       "      <td>21188.0000</td>\n",
       "      <td>85.370000</td>\n",
       "      <td>1954.076511</td>\n",
       "    </tr>\n",
       "    <tr>\n",
       "      <th>12</th>\n",
       "      <td>2.9338</td>\n",
       "      <td>21281.0000</td>\n",
       "      <td>88.979996</td>\n",
       "      <td>1836.180279</td>\n",
       "    </tr>\n",
       "    <tr>\n",
       "      <th>13</th>\n",
       "      <td>2.9339</td>\n",
       "      <td>21374.0000</td>\n",
       "      <td>111.420000</td>\n",
       "      <td>1856.321877</td>\n",
       "    </tr>\n",
       "    <tr>\n",
       "      <th>14</th>\n",
       "      <td>2.8895</td>\n",
       "      <td>21467.0000</td>\n",
       "      <td>97.750000</td>\n",
       "      <td>1813.644449</td>\n",
       "    </tr>\n",
       "    <tr>\n",
       "      <th>15</th>\n",
       "      <td>2.9974</td>\n",
       "      <td>21560.0000</td>\n",
       "      <td>83.240005</td>\n",
       "      <td>1911.681194</td>\n",
       "    </tr>\n",
       "    <tr>\n",
       "      <th>16</th>\n",
       "      <td>2.9503</td>\n",
       "      <td>21653.0000</td>\n",
       "      <td>85.320000</td>\n",
       "      <td>1701.732209</td>\n",
       "    </tr>\n",
       "    <tr>\n",
       "      <th>17</th>\n",
       "      <td>3.0441</td>\n",
       "      <td>21745.0000</td>\n",
       "      <td>98.570000</td>\n",
       "      <td>1864.368467</td>\n",
       "    </tr>\n",
       "    <tr>\n",
       "      <th>18</th>\n",
       "      <td>2.9974</td>\n",
       "      <td>21838.0000</td>\n",
       "      <td>91.710010</td>\n",
       "      <td>1735.114610</td>\n",
       "    </tr>\n",
       "    <tr>\n",
       "      <th>19</th>\n",
       "      <td>2.9079</td>\n",
       "      <td>21931.0000</td>\n",
       "      <td>87.869995</td>\n",
       "      <td>1751.082915</td>\n",
       "    </tr>\n",
       "    <tr>\n",
       "      <th>20</th>\n",
       "      <td>2.9921</td>\n",
       "      <td>22024.0000</td>\n",
       "      <td>113.990005</td>\n",
       "      <td>1915.324183</td>\n",
       "    </tr>\n",
       "    <tr>\n",
       "      <th>21</th>\n",
       "      <td>3.1867</td>\n",
       "      <td>22028.0000</td>\n",
       "      <td>116.860000</td>\n",
       "      <td>1547.424761</td>\n",
       "    </tr>\n",
       "    <tr>\n",
       "      <th>22</th>\n",
       "      <td>3.1865</td>\n",
       "      <td>22032.0000</td>\n",
       "      <td>114.970000</td>\n",
       "      <td>1683.856891</td>\n",
       "    </tr>\n",
       "    <tr>\n",
       "      <th>23</th>\n",
       "      <td>3.1463</td>\n",
       "      <td>22036.2654</td>\n",
       "      <td>127.140000</td>\n",
       "      <td>1653.161377</td>\n",
       "    </tr>\n",
       "    <tr>\n",
       "      <th>24</th>\n",
       "      <td>3.0586</td>\n",
       "      <td>22042.0000</td>\n",
       "      <td>121.170000</td>\n",
       "      <td>1690.979867</td>\n",
       "    </tr>\n",
       "    <tr>\n",
       "      <th>25</th>\n",
       "      <td>2.8506</td>\n",
       "      <td>22046.0000</td>\n",
       "      <td>103.760000</td>\n",
       "      <td>1911.477882</td>\n",
       "    </tr>\n",
       "    <tr>\n",
       "      <th>26</th>\n",
       "      <td>2.9740</td>\n",
       "      <td>22042.0000</td>\n",
       "      <td>112.460000</td>\n",
       "      <td>1850.208600</td>\n",
       "    </tr>\n",
       "    <tr>\n",
       "      <th>27</th>\n",
       "      <td>3.0690</td>\n",
       "      <td>22047.0000</td>\n",
       "      <td>126.970000</td>\n",
       "      <td>1605.455422</td>\n",
       "    </tr>\n",
       "    <tr>\n",
       "      <th>28</th>\n",
       "      <td>3.0380</td>\n",
       "      <td>22045.6965</td>\n",
       "      <td>105.150000</td>\n",
       "      <td>1614.844920</td>\n",
       "    </tr>\n",
       "    <tr>\n",
       "      <th>29</th>\n",
       "      <td>2.9164</td>\n",
       "      <td>22200.0000</td>\n",
       "      <td>85.030000</td>\n",
       "      <td>1804.267241</td>\n",
       "    </tr>\n",
       "  </tbody>\n",
       "</table>\n",
       "</div>"
      ],
      "text/plain": [
       "     Yield    Cropland        Fert        Water\n",
       "0   1.9556  20603.0000   50.660000  2801.857667\n",
       "1   2.2534  20726.0000   46.420002  2559.945281\n",
       "2   2.1745  20574.0000   54.330000  2614.282257\n",
       "3   2.0497  20445.0000   71.160000  2440.991593\n",
       "4   2.3521  20538.0000   66.939995  2249.798274\n",
       "5   2.4158  20631.0000   73.840000  2387.660821\n",
       "6   2.4098  20724.0000   75.750000  2071.595781\n",
       "7   2.3788  20817.0000   75.400000  2345.042479\n",
       "8   2.4180  20909.0000   85.030000  2419.960932\n",
       "9   2.4244  21002.0000   91.580000  2048.445773\n",
       "10  2.6128  21095.0000   80.160000  1934.570175\n",
       "11  2.8739  21188.0000   85.370000  1954.076511\n",
       "12  2.9338  21281.0000   88.979996  1836.180279\n",
       "13  2.9339  21374.0000  111.420000  1856.321877\n",
       "14  2.8895  21467.0000   97.750000  1813.644449\n",
       "15  2.9974  21560.0000   83.240005  1911.681194\n",
       "16  2.9503  21653.0000   85.320000  1701.732209\n",
       "17  3.0441  21745.0000   98.570000  1864.368467\n",
       "18  2.9974  21838.0000   91.710010  1735.114610\n",
       "19  2.9079  21931.0000   87.869995  1751.082915\n",
       "20  2.9921  22024.0000  113.990005  1915.324183\n",
       "21  3.1867  22028.0000  116.860000  1547.424761\n",
       "22  3.1865  22032.0000  114.970000  1683.856891\n",
       "23  3.1463  22036.2654  127.140000  1653.161377\n",
       "24  3.0586  22042.0000  121.170000  1690.979867\n",
       "25  2.8506  22046.0000  103.760000  1911.477882\n",
       "26  2.9740  22042.0000  112.460000  1850.208600\n",
       "27  3.0690  22047.0000  126.970000  1605.455422\n",
       "28  3.0380  22045.6965  105.150000  1614.844920\n",
       "29  2.9164  22200.0000   85.030000  1804.267241"
      ]
     },
     "execution_count": 4,
     "metadata": {},
     "output_type": "execute_result"
    }
   ],
   "source": [
    "df_THAI = pd.DataFrame()\n",
    "df_THAI[\"Yield\"] = df_rice_y[\"Thailand Rice Yield\"]\n",
    "df_THAI[\"Cropland\"] = df_cropland[\"Thailand Crop Land\"]\n",
    "#df_THAI[\"Energy\"] = df_energy[\"Thailand energy/cropland\"]\n",
    "df_THAI[\"Fert\"] = df_fert_use[\"Thailand\"]\n",
    "#df_THAI[\"Rural Pop\"] = df_pop[\"thailand rural/total\"]\n",
    "#df_THAI[\"Urban Pop\"] = df_pop[\"thailand urban/total\"]\n",
    "df_THAI[\"Water\"] = df_water[\"wf_tot_m3_t_thailand\"]\n",
    "#df_THAI[\"Pesticide\"] = df_pesticide[\"India Pesticide\"]\n",
    "#df_THAI[\"Pesticide Import\"] = df_pesticide_imports[\"Thailand\"]\n",
    "#df_THAI[\"Air Deposition of Nitrogen\"] = df_air_dep[\"Thailand Air Deposition of Nitrogen\"]\n",
    "\n",
    "df_THAI"
   ]
  },
  {
   "cell_type": "code",
   "execution_count": 5,
   "metadata": {
    "datalore": {
     "hide_input_from_viewers": false,
     "hide_output_from_viewers": false,
     "node_id": "RPRvJwqOJg2wk4OTsQkSV4",
     "report_properties": {
      "rowId": "67M6k9hdeLN28HdACOkSFH"
     },
     "type": "CODE"
    }
   },
   "outputs": [],
   "source": [
    "# Extract the features and the target\n",
    "df_features, df_target = get_features_targets(df_THAI,[\"Fert\", \"Water\"],[\"Yield\"])\n",
    "\n",
    "# Split the data set into training and test\n",
    "df_features_train, df_features_test, df_target_train, df_target_test = split_data(df_features, df_target, random_state = 100, test_size = 0.3)\n",
    "\n",
    "#print(df_features_train)\n",
    "#print(df_features_test)\n",
    "\n",
    "# Normalize the features using z normalization\n",
    "array_features_train_z, means, stds = normalize_z(df_features_train)\n",
    "\n",
    "# Change the features and the target to numpy array using the prepare functions\n",
    "\n",
    "X: np.ndarray = prepare_feature(array_features_train_z)\n",
    "target: np.ndarray = df_target_train.to_numpy()\n",
    "\n",
    "iterations: int = 1500\n",
    "alpha: float = 0.01\n",
    "beta: np.ndarray = np.zeros((3,1))\n",
    "\n",
    "# Call the gradient_descent function\n",
    "beta, J_storage = gradient_descent_linreg(X, target, beta, alpha,iterations)\n",
    "\n",
    "# call the predict() method\n",
    "pred: np.ndarray = predict_linreg(df_features_test,beta, means,stds)"
   ]
  },
  {
   "cell_type": "code",
   "execution_count": 6,
   "metadata": {},
   "outputs": [
    {
     "data": {
      "text/plain": [
       "[<matplotlib.lines.Line2D at 0x222243cde90>]"
      ]
     },
     "execution_count": 6,
     "metadata": {},
     "output_type": "execute_result"
    },
    {
     "data": {
      "image/png": "[encoded data removed]",
      "text/plain": [
       "<Figure size 640x480 with 1 Axes>"
      ]
     },
     "metadata": {},
     "output_type": "display_data"
    }
   ],
   "source": [
    "plt.plot(J_storage)"
   ]
  },
  {
   "cell_type": "code",
   "execution_count": 7,
   "metadata": {
    "datalore": {
     "hide_input_from_viewers": false,
     "hide_output_from_viewers": false,
     "node_id": "QYD5SWjkTy0ErCCyEpixEl",
     "report_properties": {
      "rowId": "9ZfHDm5ysIVAuIiQGlKUKf"
     },
     "type": "CODE"
    }
   },
   "outputs": [
    {
     "name": "stdout",
     "output_type": "stream",
     "text": [
      "r2: 0.716621071579626\n",
      "adj_r_squared: 0.7117769873331239\n",
      "mse: 0.020028300936362754\n",
      "mae: 0.10317604974186079\n"
     ]
    }
   ],
   "source": [
    "# change target test set to a numpy array\n",
    "target: np.ndarray = df_target_test.to_numpy()\n",
    "\n",
    "# Calculate r2 score by calling a function\n",
    "r2: float = r2_score(target, pred)\n",
    "    \n",
    "# Calculate adj r2\n",
    "#Set the n and k\n",
    "n = 120\n",
    "k = 2\n",
    "adj_r2: float = adj_r_squared(n,k,target,pred)\n",
    "\n",
    "# Calculate the mse\n",
    "mse: float = np.mean((target-pred)**2)\n",
    "    \n",
    "# Calculate the mae\n",
    "mae: float = np.mean(np.absolute(target-pred))\n",
    "    \n",
    "print(f\"r2: {r2}\")\n",
    "print(f\"adj_r_squared: {adj_r2}\")\n",
    "print(f\"mse: {mse}\")\n",
    "print(f\"mae: {mae}\")"
   ]
  },
  {
   "cell_type": "code",
   "execution_count": 8,
   "metadata": {},
   "outputs": [
    {
     "name": "stdout",
     "output_type": "stream",
     "text": [
      "[[2.72226472]\n",
      " [2.96714009]\n",
      " [3.1300566 ]\n",
      " [2.95801137]\n",
      " [2.37487411]\n",
      " [2.88509092]\n",
      " [3.22460153]\n",
      " [2.88251062]\n",
      " [2.64034453]]\n",
      "     Yield\n",
      "9   2.4244\n",
      "26  2.9740\n",
      "28  3.0380\n",
      "13  2.9339\n",
      "5   2.4158\n",
      "12  2.9338\n",
      "27  3.0690\n",
      "25  2.8506\n",
      "6   2.4098\n",
      "          Fert        Water\n",
      "9    91.580000  2048.445773\n",
      "26  112.460000  1850.208600\n",
      "28  105.150000  1614.844920\n",
      "13  111.420000  1856.321877\n",
      "5    73.840000  2387.660821\n",
      "12   88.979996  1836.180279\n",
      "27  126.970000  1605.455422\n",
      "25  103.760000  1911.477882\n",
      "6    75.750000  2071.595781\n",
      "[[ 2.73057058]\n",
      " [ 0.09055281]\n",
      " [-0.30160569]]\n"
     ]
    }
   ],
   "source": [
    "print(pred)\n",
    "print(df_target_test)\n",
    "print(df_features_test)\n",
    "print(beta)"
   ]
  },
  {
   "cell_type": "code",
   "execution_count": 9,
   "metadata": {
    "datalore": {
     "hide_input_from_viewers": false,
     "hide_output_from_viewers": false,
     "node_id": "ICMDuPEOxTOqJPbwIGEPta",
     "report_properties": {
      "rowId": "O3Vt631iNyRiwmSpWa31qC"
     },
     "type": "CODE"
    }
   },
   "outputs": [
    {
     "name": "stdout",
     "output_type": "stream",
     "text": [
      "[3.22460153]\n"
     ]
    }
   ],
   "source": [
    "###27  3.0690\n",
    "###27  0.048660  126.970000   0.494668   0.479088  1605.455422       0.24         10.084006                      9.0383 \n",
    "\n",
    "country_yield = 3.0690\n",
    "fert_use = 126.970000\n",
    "water = 1605.455422\n",
    "\n",
    "def normalise(feature_value:int, mean, std):\n",
    "    return (feature_value-mean)/std\n",
    "    \n",
    "\n",
    "def get_crop_yield(fert_use, water, beta):\n",
    "    fert_use_n = normalise(fert_use ,means[0],stds[0])\n",
    "    water_n = normalise(water ,means[1],stds[1])\n",
    "    y = beta[0] + beta[1]*fert_use_n + beta[2]*water_n\n",
    "    return y\n",
    "\n",
    "print(get_crop_yield(fert_use, water, beta))"
   ]
  },
  {
   "cell_type": "code",
   "execution_count": null,
   "metadata": {
    "datalore": {
     "hide_input_from_viewers": true,
     "hide_output_from_viewers": true,
     "node_id": "VuO7TPeH32Eaau7YEfIJyd",
     "type": "CODE"
    }
   },
   "outputs": [],
   "source": []
  }
 ],
 "metadata": {
  "datalore": {
   "base_environment": "default",
   "computation_mode": "JUPYTER",
   "package_manager": "pip",
   "packages": [],
   "report_row_ids": [
    "Oc5xzVwxXTTdTxmE0UpayM",
    "faxBl2jwdWqkGcoejHniYP",
    "67M6k9hdeLN28HdACOkSFH",
    "9ZfHDm5ysIVAuIiQGlKUKf",
    "SdT5IoT7P7LFgUKrlJ3x3N",
    "rsKPoUxTIXmtHRCVPVmB64",
    "O3Vt631iNyRiwmSpWa31qC"
   ],
   "version": 3
  },
  "kernelspec": {
   "display_name": "Python 3 (ipykernel)",
   "language": "python",
   "name": "python3"
  },
  "language_info": {
   "codemirror_mode": {
    "name": "ipython",
    "version": 3
   },
   "file_extension": ".py",
   "mimetype": "text/x-python",
   "name": "python",
   "nbconvert_exporter": "python",
   "pygments_lexer": "ipython3",
   "version": "3.11.5"
  }
 },
 "nbformat": 4,
 "nbformat_minor": 4
}
