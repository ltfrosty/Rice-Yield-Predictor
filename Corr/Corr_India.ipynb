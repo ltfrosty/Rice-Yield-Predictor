{
 "cells": [
  {
   "cell_type": "code",
   "execution_count": 31,
   "id": "1de0c97a",
   "metadata": {},
   "outputs": [],
   "source": [
    "#%run ../MLR_Functions.ipynb\n",
    "%run MLR_Functions.ipynb"
   ]
  },
  {
   "cell_type": "code",
   "execution_count": 32,
   "id": "772590ea",
   "metadata": {},
   "outputs": [],
   "source": [
    "import pandas as pd "
   ]
  },
  {
   "cell_type": "code",
   "execution_count": 33,
   "id": "825a9bd1",
   "metadata": {},
   "outputs": [],
   "source": [
    "df_rice_y = pd.read_csv(\"df_crop_yield.csv\")\n",
    "df_fert_use = pd.read_csv(\"df_fertilizer_usage.csv\")\n",
    "df_cropland = pd.read_csv(\"df_cropland.csv\")\n",
    "df_energy = pd.read_csv(\"df_energy_usage.csv\")\n",
    "df_pop = pd.read_csv(\"df_urban_rural_pop.csv\")\n",
    "df_water = pd.read_csv(\"df_water_usage.csv\")\n",
    "df_pesticide = pd.read_csv(\"df_pesticide_usage.csv\")\n",
    "df_pesticide_imports = pd.read_csv(\"df_pesticide_imports.csv\")\n",
    "df_air_dep = pd.read_csv(\"df_air_deposition_nitrogen.csv\")\n",
    "#print(df_pesticide_imports)"
   ]
  },
  {
   "cell_type": "code",
   "execution_count": 41,
   "id": "1ff5f95e",
   "metadata": {},
   "outputs": [],
   "source": [
    "df_rice_y = pd.read_csv(\"df_crop_yield.csv\")\n",
    "df_fert_use = pd.read_csv(\"df_fertilizer_usage.csv\")\n",
    "df_cropland = pd.read_csv(\"df_cropland.csv\")\n",
    "df_energy = pd.read_csv(\"df_energy_usage.csv\")\n",
    "df_pop = pd.read_csv(\"df_urban_rural_pop.csv\")\n",
    "df_water = pd.read_csv(\"df_water_usage.csv\")\n",
    "df_pesticide = pd.read_csv(\"df_pesticide_usage.csv\")\n",
    "df_pesticide_imports = pd.read_csv(\"df_pesticide_imports.csv\")\n",
    "df_air_dep = pd.read_csv(\"df_air_deposition_nitrogen.csv\")\n",
    "#print(df_pesticide_imports)\n",
    "\n",
    "#display(df_INDIA)"
   ]
  },
  {
   "cell_type": "code",
   "execution_count": 43,
   "id": "3bb8ad63",
   "metadata": {},
   "outputs": [
    {
     "data": {
      "text/html": [
       "<div>\n",
       "<style scoped>\n",
       "    .dataframe tbody tr th:only-of-type {\n",
       "        vertical-align: middle;\n",
       "    }\n",
       "\n",
       "    .dataframe tbody tr th {\n",
       "        vertical-align: top;\n",
       "    }\n",
       "\n",
       "    .dataframe thead th {\n",
       "        text-align: right;\n",
       "    }\n",
       "</style>\n",
       "<table border=\"1\" class=\"dataframe\">\n",
       "  <thead>\n",
       "    <tr style=\"text-align: right;\">\n",
       "      <th></th>\n",
       "      <th>Yield</th>\n",
       "    </tr>\n",
       "  </thead>\n",
       "  <tbody>\n",
       "    <tr>\n",
       "      <th>Yield</th>\n",
       "      <td>1.000000</td>\n",
       "    </tr>\n",
       "    <tr>\n",
       "      <th>Cropland</th>\n",
       "      <td>-0.890319</td>\n",
       "    </tr>\n",
       "    <tr>\n",
       "      <th>Energy</th>\n",
       "      <td>0.945117</td>\n",
       "    </tr>\n",
       "    <tr>\n",
       "      <th>Fert</th>\n",
       "      <td>0.918625</td>\n",
       "    </tr>\n",
       "    <tr>\n",
       "      <th>Rural Pop</th>\n",
       "      <td>-0.963241</td>\n",
       "    </tr>\n",
       "    <tr>\n",
       "      <th>Urban Pop</th>\n",
       "      <td>0.967212</td>\n",
       "    </tr>\n",
       "    <tr>\n",
       "      <th>Water</th>\n",
       "      <td>-0.957587</td>\n",
       "    </tr>\n",
       "    <tr>\n",
       "      <th>Pesticide</th>\n",
       "      <td>-0.574533</td>\n",
       "    </tr>\n",
       "    <tr>\n",
       "      <th>Pesticide Import</th>\n",
       "      <td>0.946511</td>\n",
       "    </tr>\n",
       "    <tr>\n",
       "      <th>Air Deposition of Nitrogen</th>\n",
       "      <td>0.915429</td>\n",
       "    </tr>\n",
       "  </tbody>\n",
       "</table>\n",
       "</div>"
      ],
      "text/plain": [
       "                               Yield\n",
       "Yield                       1.000000\n",
       "Cropland                   -0.890319\n",
       "Energy                      0.945117\n",
       "Fert                        0.918625\n",
       "Rural Pop                  -0.963241\n",
       "Urban Pop                   0.967212\n",
       "Water                      -0.957587\n",
       "Pesticide                  -0.574533\n",
       "Pesticide Import            0.946511\n",
       "Air Deposition of Nitrogen  0.915429"
      ]
     },
     "execution_count": 43,
     "metadata": {},
     "output_type": "execute_result"
    }
   ],
   "source": [
    "df_INDIA_COR = df_INDIA.corr()\n",
    "df_INDIA_COR[['Yield']]"
   ]
  },
  {
   "cell_type": "markdown",
   "id": "ee0f741d",
   "metadata": {},
   "source": [
    "Because the number of data points we have is small, the number of test data points we have for our single variable linear regressions are too few to establish an r^2 value that represents the data well. (Independent Variable vs Rice Yield)\n",
    "\n",
    "Additionally, many of the single variable linear regression results are inconsistent with the preliminary scatter plots that we made when we cleaned up the data.\n",
    "\n",
    "Hence we opted to use correlation to determine whether linear relationships exist betweeen our independent variables and Rice Yields, and whether we should accept/reject these independent variables.\n",
    "\n",
    "For this we used a threshold of 0.7. i.e. We reject independent variables with correlation values less than 0.7.\n",
    "Therefore, we reject Pesticide Usage. "
   ]
  },
  {
   "cell_type": "code",
   "execution_count": null,
   "id": "6c839173",
   "metadata": {},
   "outputs": [],
   "source": []
  }
 ],
 "metadata": {
  "kernelspec": {
   "display_name": "Python 3 (ipykernel)",
   "language": "python",
   "name": "python3"
  },
  "language_info": {
   "codemirror_mode": {
    "name": "ipython",
    "version": 3
   },
   "file_extension": ".py",
   "mimetype": "text/x-python",
   "name": "python",
   "nbconvert_exporter": "python",
   "pygments_lexer": "ipython3",
   "version": "3.11.5"
  }
 },
 "nbformat": 4,
 "nbformat_minor": 5
}
