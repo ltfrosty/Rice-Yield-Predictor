{
 "cells": [
  {
   "cell_type": "markdown",
   "id": "4be60478-d002-43a5-ac57-9617f027b982",
   "metadata": {},
   "source": [
    "# Energy Use"
   ]
  },
  {
   "cell_type": "code",
   "execution_count": 23,
   "id": "ec80d4cf",
   "metadata": {},
   "outputs": [],
   "source": [
    "import pandas as pd\n",
    "import matplotlib.pyplot as plt\n",
    "import copy"
   ]
  },
  {
   "cell_type": "code",
   "execution_count": 24,
   "id": "f31786ce",
   "metadata": {},
   "outputs": [],
   "source": [
    "data = pd.read_csv('../Raw Data/energy_usage.csv')\n",
    "df = pd.DataFrame(data)"
   ]
  },
  {
   "cell_type": "code",
   "execution_count": 25,
   "id": "43eef776",
   "metadata": {},
   "outputs": [
    {
     "name": "stdout",
     "output_type": "stream",
     "text": [
      "    Year  India Rice Yield  China Rice Yield  Thailand Rice Yield  \\\n",
      "0   1990            2.6125            5.7261               1.9556   \n",
      "1   1991            2.6271            5.6402               2.2534   \n",
      "2   1992            2.6092            5.8031               2.1745   \n",
      "3   1993            2.8303            5.8479               2.0497   \n",
      "4   1994            2.8645            5.8311               2.3521   \n",
      "5   1995            2.6972            6.0248               2.4158   \n",
      "6   1996            2.8226            6.2122               2.4098   \n",
      "7   1997            2.8457            6.3192               2.3788   \n",
      "8   1998            2.8805            6.3662               2.4180   \n",
      "9   1999            2.9782            6.3447               2.4244   \n",
      "10  2000            2.8508            6.2716               2.6128   \n",
      "11  2001            3.1158            6.1633               2.8739   \n",
      "12  2002            2.6163            6.1890               2.9338   \n",
      "13  2003            3.1177            6.0607               2.9339   \n",
      "14  2004            2.9756            6.3106               2.8895   \n",
      "15  2005            3.1537            6.2602               2.9974   \n",
      "16  2006            3.1759            6.2796               2.9503   \n",
      "17  2007            3.2924            6.4330               3.0441   \n",
      "18  2008            3.2509            6.5625               2.9974   \n",
      "19  2009            3.2366            6.5853               2.9079   \n",
      "20  2010            3.3587            6.5530               2.9921   \n",
      "21  2011            3.5878            6.6873               3.1867   \n",
      "22  2012            3.6909            6.7769               3.1865   \n",
      "23  2013            3.6243            6.7173               3.1463   \n",
      "24  2014            3.5868            6.8132               3.0586   \n",
      "25  2015            3.6002            6.8913               2.8506   \n",
      "26  2016            3.7401            6.8657               2.9740   \n",
      "27  2017            3.8639            6.9169               3.0690   \n",
      "28  2018            3.9568            7.0266               3.0380   \n",
      "29  2019            4.0837            7.0601               2.9164   \n",
      "\n",
      "    Vietnam Rice Yield  \n",
      "0               3.1815  \n",
      "1               3.1133  \n",
      "2               3.3342  \n",
      "3               3.4815  \n",
      "4               3.5657  \n",
      "5               3.6898  \n",
      "6               3.7689  \n",
      "7               3.8768  \n",
      "8               4.0007  \n",
      "9               4.1018  \n",
      "10              4.2432  \n",
      "11              4.2853  \n",
      "12              4.5903  \n",
      "13              4.6387  \n",
      "14              4.8553  \n",
      "15              4.8891  \n",
      "16              4.8943  \n",
      "17              4.9869  \n",
      "18              5.2336  \n",
      "19              5.2372  \n",
      "20              5.3416  \n",
      "21              5.5383  \n",
      "22              5.6353  \n",
      "23              5.5726  \n",
      "24              5.7538  \n",
      "25              5.7597  \n",
      "26              5.5738  \n",
      "27              5.5476  \n",
      "28              5.8180  \n",
      "29              5.8371  \n"
     ]
    }
   ],
   "source": [
    "crop_yield_df = pd.read_csv('../Cleaned Data/df_crop_yield.csv')\n",
    "print(crop_yield_df)"
   ]
  },
  {
   "cell_type": "code",
   "execution_count": 26,
   "id": "18a719b8",
   "metadata": {},
   "outputs": [
    {
     "name": "stdout",
     "output_type": "stream",
     "text": [
      "    Year  India Crop Land  China Crop Land  Thailand Crop Land  \\\n",
      "0   1990      170109.0000      132197.0000          20603.0000   \n",
      "1   1991      170182.0000      133266.0000          20726.0000   \n",
      "2   1992      170006.0000      131583.0000          20574.0000   \n",
      "3   1993      170286.0000      130882.0000          20445.0000   \n",
      "4   1994      170325.0000      130879.0000          20538.0000   \n",
      "5   1995      169911.0000      130880.0000          20631.0000   \n",
      "6   1996      169525.0000      130918.0000          20724.0000   \n",
      "7   1997      170101.0000      130910.2500          20817.0000   \n",
      "8   1998      170029.0000      130904.5000          20909.0000   \n",
      "9   1999      170125.0000      130900.7500          21002.0000   \n",
      "10  2000      170130.0000      130897.0000          21095.0000   \n",
      "11  2001      169825.0000      131488.8444          21188.0000   \n",
      "12  2002      170032.0000      132080.6889          21281.0000   \n",
      "13  2003      169799.0000      132671.5333          21374.0000   \n",
      "14  2004      169891.0000      133257.3778          21467.0000   \n",
      "15  2005      169674.0000      133848.2222          21560.0000   \n",
      "16  2006      169462.0000      134438.0667          21653.0000   \n",
      "17  2007      169202.0000      135027.9111          21745.0000   \n",
      "18  2008      169395.0000      135617.7556          21838.0000   \n",
      "19  2009      169724.0000      136204.6000          21931.0000   \n",
      "20  2010      169234.0000      135449.8000          22024.0000   \n",
      "21  2011      169369.0000      134692.5000          22028.0000   \n",
      "22  2012      169346.0000      133934.8000          22032.0000   \n",
      "23  2013      169442.0000      133179.5000          22036.2654   \n",
      "24  2014      169463.0000      132426.8000          22042.0000   \n",
      "25  2015      169413.0000      131671.5000          22046.0000   \n",
      "26  2016      169317.0000      130916.5000          22042.0000   \n",
      "27  2017      168895.1360      130163.3000          22047.0000   \n",
      "28  2018      168777.9110      129408.6000          22045.6965   \n",
      "29  2019      168669.0764      128656.2000          22200.0000   \n",
      "\n",
      "    Vietnam Crop Land  \n",
      "0              6384.0  \n",
      "1              6425.0  \n",
      "2              6697.0  \n",
      "3              6759.0  \n",
      "4              6812.0  \n",
      "5              6751.0  \n",
      "6              7004.0  \n",
      "7              7202.0  \n",
      "8              7413.0  \n",
      "9              7771.0  \n",
      "10             8138.0  \n",
      "11             8841.0  \n",
      "12             8813.0  \n",
      "13             8895.0  \n",
      "14             9153.6  \n",
      "15             9412.1  \n",
      "16             9436.0  \n",
      "17             9420.6  \n",
      "18             9598.8  \n",
      "19             9650.0  \n",
      "20            10118.1  \n",
      "21            10126.6  \n",
      "22            10151.3  \n",
      "23            10210.8  \n",
      "24            10231.7  \n",
      "25            11505.8  \n",
      "26            11530.2  \n",
      "27            11526.8  \n",
      "28            11498.5  \n",
      "29            11746.0  \n",
      "<class 'pandas.core.frame.DataFrame'>\n"
     ]
    }
   ],
   "source": [
    "cropland_df = pd.read_csv('../Cleaned Data/df_cropland.csv')\n",
    "print(cropland_df)\n",
    "print(type(cropland_df))"
   ]
  },
  {
   "cell_type": "code",
   "execution_count": 27,
   "id": "ad25563f",
   "metadata": {},
   "outputs": [],
   "source": [
    "new_df = df.drop(['Domain Code', 'Domain','Area Code (M49)','Element Code','Element','Item Code', 'Year Code','Unit','Flag', 'Flag Description'], axis = 1)\n",
    "new_df = new_df[(new_df['Year'] >= 1990) & (new_df['Year'] <= 2019)]\n",
    "new_df = new_df[['Year', 'Area', 'Value','Item']]\n",
    "new_df = new_df[~new_df['Item'].isin(['Petroleum products', 'Natural gas', 'Coal', 'Heat'])]\n",
    "\n",
    "china = new_df.loc[99:129]['Value'].reset_index(drop=True)\n",
    "china.name = 'Energy Usage in China'\n",
    "\n",
    "india = new_df.loc[231:261]['Value'].reset_index(drop=True)\n",
    "india.name = 'Energy Usage in India'\n",
    "\n",
    "thailand = new_df.loc[297:327]['Value'].reset_index(drop=True)\n",
    "thailand.name = 'Energy Usage in Thailand'\n",
    "\n",
    "vietnam = new_df.loc[396:426]['Value'].reset_index(drop=True)\n",
    "vietnam.name = 'Energy Usage in Vietnam'"
   ]
  },
  {
   "cell_type": "code",
   "execution_count": 28,
   "id": "c09dbf2b",
   "metadata": {},
   "outputs": [],
   "source": [
    "###We need to make them numpy arrays to do the division. (We want electricity used per unit area of cropland used.)\n",
    "###Then we need to convert them baack to dfs to combine them!\n",
    "india_energy_per_cropland_series = india.to_numpy() / cropland_df.loc[:, \"India Crop Land\"]\n",
    "india_energy_per_cropland_df = india_energy_per_cropland_series.to_frame(\"India energy/cropland\")\n",
    "#print(india_energy_per_cropland_df)\n",
    "\n",
    "china_energy_per_cropland_series = china.to_numpy() / cropland_df.loc[:, \"China Crop Land\"]\n",
    "china_energy_per_cropland_df = china_energy_per_cropland_series.to_frame(\"China energy/cropland\")\n",
    "#print(china_energy_per_cropland_df)\n",
    "\n",
    "thailand_energy_per_cropland_series = thailand.to_numpy() / cropland_df.loc[:, \"Thailand Crop Land\"]\n",
    "thailand_energy_per_cropland_df = thailand_energy_per_cropland_series.to_frame(\"Thailand energy/cropland\")\n",
    "#print(thailand_energy_per_cropland_df)\n",
    "\n",
    "vietnam_energy_per_cropland_series = vietnam.to_numpy() / cropland_df.loc[:, \"Vietnam Crop Land\"]\n",
    "vietnam_energy_per_cropland_df = vietnam_energy_per_cropland_series.to_frame(\"Vietnam energy/cropland\")\n",
    "#print(vietnam_energy_per_cropland_df)\n",
    "\n",
    "###make a df for years\n",
    "year_df = cropland_df.loc[:, \"Year\"].to_frame(\"Year\")\n",
    "#print(year_df)"
   ]
  },
  {
   "cell_type": "code",
   "execution_count": 29,
   "id": "075a9a37",
   "metadata": {},
   "outputs": [
    {
     "name": "stdout",
     "output_type": "stream",
     "text": [
      "    India energy/cropland  China energy/cropland  Thailand energy/cropland  \\\n",
      "0                1.064938               1.206837                  0.016774   \n",
      "1                1.238704               1.344494                  0.016327   \n",
      "2                1.341016               1.475799                  0.020647   \n",
      "3                1.494641               1.375437                  0.022891   \n",
      "4                1.676111               1.512929                  0.016827   \n",
      "5                1.816452               1.695083                  0.017973   \n",
      "6                1.784211               1.796355                  0.021540   \n",
      "7                1.931036               1.862850                  0.028534   \n",
      "8                2.057896               1.772399                  0.036329   \n",
      "9                1.924246               1.876170                  0.027940   \n",
      "10               1.792890               1.914078                  0.026281   \n",
      "11               1.731328               2.149455                  0.030244   \n",
      "12               1.788779               1.716978                  0.033156   \n",
      "13               1.846421               1.947942                  0.037560   \n",
      "14               1.876486               2.146256                  0.037565   \n",
      "15               1.915740               2.156320                  0.040909   \n",
      "16               2.103615               2.285712                  0.039902   \n",
      "17               2.216612               2.414834                  0.044369   \n",
      "18               2.419488               2.425462                  0.046488   \n",
      "19               2.549742               2.554308                  0.052200   \n",
      "20               2.807244               2.666684                  0.054922   \n",
      "21               2.840992               2.782020                  0.049682   \n",
      "22               2.996563               2.796555                  0.062255   \n",
      "23               3.406426               2.852260                  0.057505   \n",
      "24               3.588316               2.834195                  0.067616   \n",
      "25               3.680154               2.925186                  0.063195   \n",
      "26               4.156126               3.085513                  0.043608   \n",
      "27               4.354506               3.336837                  0.048660   \n",
      "28               4.432142               3.541767                  0.059603   \n",
      "29               4.870005               3.827111                  0.075892   \n",
      "\n",
      "    Vietnam energy/cropland  \n",
      "0                  0.507519  \n",
      "1                  0.521089  \n",
      "2                  0.524115  \n",
      "3                  0.608788  \n",
      "4                  0.750440  \n",
      "5                  0.309288  \n",
      "6                  0.315591  \n",
      "7                  0.328909  \n",
      "8                  0.348685  \n",
      "9                  0.359027  \n",
      "10                 0.295060  \n",
      "11                 0.309060  \n",
      "12                 0.329241  \n",
      "13                 0.857201  \n",
      "14                 0.364971  \n",
      "15                 0.376749  \n",
      "16                 0.372743  \n",
      "17                 0.380995  \n",
      "18                 0.439930  \n",
      "19                 0.470052  \n",
      "20                 0.336941  \n",
      "21                 0.383584  \n",
      "22                 0.448967  \n",
      "23                 0.529557  \n",
      "24                 0.665696  \n",
      "25                 0.728085  \n",
      "26                 1.128376  \n",
      "27                 1.361072  \n",
      "28                 1.703179  \n",
      "29                 2.021395  \n"
     ]
    }
   ],
   "source": [
    "result = pd.concat([india_energy_per_cropland_df, china_energy_per_cropland_df, thailand_energy_per_cropland_df, vietnam_energy_per_cropland_df], axis=1)\n",
    "print(result)"
   ]
  },
  {
   "cell_type": "code",
   "execution_count": 30,
   "id": "c77e0b27",
   "metadata": {},
   "outputs": [],
   "source": [
    "###Creates a csv file from the dataframe\n",
    "#result.to_csv('df_energy_usage.csv', index=False)"
   ]
  },
  {
   "cell_type": "markdown",
   "id": "148554e7-9fe0-4c6f-ab1b-4e2650a8aebf",
   "metadata": {},
   "source": [
    "## Scatterplots"
   ]
  },
  {
   "cell_type": "code",
   "execution_count": 31,
   "id": "c29169df",
   "metadata": {},
   "outputs": [
    {
     "data": {
      "text/plain": [
       "<matplotlib.collections.PathCollection at 0x26ab14f4990>"
      ]
     },
     "execution_count": 31,
     "metadata": {},
     "output_type": "execute_result"
    },
    {
     "data": {
      "image/png": "[encoded data removed]",
      "text/plain": [
       "<Figure size 640x480 with 1 Axes>"
      ]
     },
     "metadata": {},
     "output_type": "display_data"
    }
   ],
   "source": [
    "plt.scatter(result[\"India energy/cropland\"], crop_yield_df[\"India Rice Yield\"])"
   ]
  },
  {
   "cell_type": "code",
   "execution_count": 32,
   "id": "fda9b22c",
   "metadata": {},
   "outputs": [
    {
     "data": {
      "text/plain": [
       "<matplotlib.collections.PathCollection at 0x26ab14ca010>"
      ]
     },
     "execution_count": 32,
     "metadata": {},
     "output_type": "execute_result"
    },
    {
     "data": {
      "image/png": "[encoded data removed]",
      "text/plain": [
       "<Figure size 640x480 with 1 Axes>"
      ]
     },
     "metadata": {},
     "output_type": "display_data"
    }
   ],
   "source": [
    "plt.scatter(result[\"China energy/cropland\"], crop_yield_df[\"China Rice Yield\"])"
   ]
  },
  {
   "cell_type": "code",
   "execution_count": 33,
   "id": "64046ccd",
   "metadata": {},
   "outputs": [
    {
     "data": {
      "text/plain": [
       "<matplotlib.collections.PathCollection at 0x26ab0b46cd0>"
      ]
     },
     "execution_count": 33,
     "metadata": {},
     "output_type": "execute_result"
    },
    {
     "data": {
      "image/png": "[encoded data removed]",
      "text/plain": [
       "<Figure size 640x480 with 1 Axes>"
      ]
     },
     "metadata": {},
     "output_type": "display_data"
    }
   ],
   "source": [
    "plt.scatter(result[\"Thailand energy/cropland\"], crop_yield_df[\"Thailand Rice Yield\"])"
   ]
  },
  {
   "cell_type": "code",
   "execution_count": 34,
   "id": "291f1ec0",
   "metadata": {},
   "outputs": [
    {
     "data": {
      "text/plain": [
       "<matplotlib.collections.PathCollection at 0x26ab09fa010>"
      ]
     },
     "execution_count": 34,
     "metadata": {},
     "output_type": "execute_result"
    },
    {
     "data": {
      "image/png": "[encoded data removed]",
      "text/plain": [
       "<Figure size 640x480 with 1 Axes>"
      ]
     },
     "metadata": {},
     "output_type": "display_data"
    }
   ],
   "source": [
    "plt.scatter(result[\"Vietnam energy/cropland\"], crop_yield_df[\"Vietnam Rice Yield\"])"
   ]
  }
 ],
 "metadata": {
  "kernelspec": {
   "display_name": "Python 3 [3.10]",
   "language": "python",
   "name": "python3"
  },
  "language_info": {
   "codemirror_mode": {
    "name": "ipython",
    "version": 3
   },
   "file_extension": ".py",
   "mimetype": "text/x-python",
   "name": "python",
   "nbconvert_exporter": "python",
   "pygments_lexer": "ipython3",
   "version": "3.10.2"
  }
 },
 "nbformat": 4,
 "nbformat_minor": 5
}
