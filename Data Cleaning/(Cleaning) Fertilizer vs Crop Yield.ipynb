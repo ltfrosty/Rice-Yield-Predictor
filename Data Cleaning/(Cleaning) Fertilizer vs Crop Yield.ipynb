{
 "cells": [
  {
   "cell_type": "markdown",
   "metadata": {},
   "source": [
    "## Fertilizer Use"
   ]
  },
  {
   "cell_type": "code",
   "execution_count": 3,
   "metadata": {
    "datalore": {
     "hide_input_from_viewers": false,
     "hide_output_from_viewers": false,
     "node_id": "Hs9uBsUBVU9eeiMCcCf85z",
     "report_properties": {
      "rowId": "u7PK5vSkEZI5Y1lv4stwBh"
     },
     "type": "CODE"
    }
   },
   "outputs": [
    {
     "name": "stdout",
     "output_type": "stream",
     "text": [
      "            Entity Code  Year  Fert_use\n",
      "0      Afghanistan  AFG  1961      0.14\n",
      "1      Afghanistan  AFG  1962      0.14\n",
      "2      Afghanistan  AFG  1963      0.14\n",
      "3      Afghanistan  AFG  1964      0.14\n",
      "4      Afghanistan  AFG  1965      0.14\n",
      "...            ...  ...   ...       ...\n",
      "12166     Zimbabwe  ZWE  2017     35.71\n",
      "12167     Zimbabwe  ZWE  2018     32.39\n",
      "12168     Zimbabwe  ZWE  2019     32.39\n",
      "12169     Zimbabwe  ZWE  2020     25.34\n",
      "12170     Zimbabwe  ZWE  2021     25.34\n",
      "\n",
      "[12171 rows x 4 columns]\n"
     ]
    }
   ],
   "source": [
    "import pandas as pd\n",
    "# put Python code to load the raw data\n",
    "#fertiliser used per hectare for of cropland from 1961 to 2022\n",
    "#https://ourworldindata.org/grapher/fertilizer-use-per-hectare-of-cropland?tab=table&showSelectionOnlyInTable=1&country=THA~VNM~IND\n",
    "df_raw_fertiliser = pd.read_csv(\"../Raw Data/Fertilizer Use.csv\")\n",
    "df_raw_fertiliser = df_raw_fertiliser.rename(columns = {\"All fertilizers use per area of cropland\": \"Fert_use\"})\n",
    "\n",
    "print(df_raw_fertiliser)"
   ]
  },
  {
   "cell_type": "code",
   "execution_count": 4,
   "metadata": {
    "datalore": {
     "hide_input_from_viewers": false,
     "hide_output_from_viewers": false,
     "node_id": "BZSomM5Mi3rl7iZLhD5quI",
     "report_properties": {
      "rowId": "35fO80JhwhwottQfJrFrMr"
     },
     "type": "CODE"
    }
   },
   "outputs": [
    {
     "name": "stdout",
     "output_type": "stream",
     "text": [
      "    Year    Thailand     Vietnam      China       India\n",
      "0   1990   50.660000   87.759995  207.73001   70.650000\n",
      "1   1991   46.420002  121.689995  224.05000   74.790000\n",
      "2   1992   54.330000  114.440000  223.41998   71.500000\n",
      "3   1993   71.160000  111.569990  192.92001   72.729996\n",
      "4   1994   66.939995  173.950000  221.86002   79.630000\n",
      "5   1995   73.840000  181.269990  273.69000   81.660000\n",
      "6   1996   75.750000  211.940000  276.71002   84.570000\n",
      "7   1997   75.400000  204.340010  274.12000   95.170000\n",
      "8   1998   85.030000  250.489990  275.53000   98.800000\n",
      "9   1999   91.580000  264.770000  280.21000  106.130005\n",
      "10  2000   80.160000  278.580000  263.13998   98.170006\n",
      "11  2001   85.370000  215.640010  270.58000  102.130005\n",
      "12  2002   88.979996  221.290000  305.04000   94.670006\n",
      "13  2003  111.420000  246.320000  299.72998   98.979996\n",
      "14  2004   97.750000  259.950000  320.34003  108.340004\n",
      "15  2005   83.240005  229.440000  340.27000  119.920000\n",
      "16  2006   85.320000  230.730000  339.42000  127.710000\n",
      "17  2007   98.570000  270.250000  347.27000  133.400000\n",
      "18  2008   91.710010  198.620000  335.06000  143.040000\n",
      "19  2009   87.869995  289.710000  344.26000  155.820000\n",
      "20  2010  113.990005  232.389980  379.43000  166.110000\n",
      "21  2011  116.860000  224.889980  394.16998  167.520000\n",
      "22  2012  114.970000  234.040010  403.06003  150.799990\n",
      "23  2013  127.140000  304.360020  403.09998  144.490000\n",
      "24  2014  121.170000  273.660000  419.45000  150.959990\n",
      "25  2015  103.760000  263.090000  421.53000  157.910000\n",
      "26  2016  112.460000  257.770020  413.56998  153.250000\n",
      "27  2017  126.970000  277.669980  404.70000  157.440000\n",
      "28  2018  105.150000  252.389980  387.34000  162.200000\n",
      "29  2019   85.030000  247.070000  341.15997  171.760000\n"
     ]
    }
   ],
   "source": [
    "#clean data fertiliser 1961 to 2021///1990 to 2019\n",
    "\n",
    "#filter year\n",
    "df_cleaner_fertiliser = df_raw_fertiliser.loc[(df_raw_fertiliser.Year >=1990) & (df_raw_fertiliser.Year <=2019)]\n",
    "\n",
    "#filter countries\n",
    "countries = [\"Thailand\", \"Vietnam\", \"China\", \"India\"]\n",
    "df_cleaner_fertiliser = df_cleaner_fertiliser[df_cleaner_fertiliser.Entity.isin(countries)]\n",
    "df_cleaner_fertiliser.reset_index(inplace = True, drop = True)\n",
    "#print(df_cleaner_fertiliser)\n",
    "\n",
    "#make columns based on country name\n",
    "df_fert = pd.DataFrame()\n",
    "df_fert[\"Year\"] = df_cleaner_fertiliser[\"Year\"].unique()\n",
    "\n",
    "#make columns for amount of fertiliser use \n",
    "for country in countries:\n",
    "    country_data = df_cleaner_fertiliser[df_cleaner_fertiliser.Entity == country].reset_index()\n",
    "    country_data =country_data.Fert_use\n",
    "    df_fert[country] = country_data\n",
    "\n",
    "df_fert = df_fert.sort_values(\"Year\")\n",
    "print(df_fert)"
   ]
  },
  {
   "cell_type": "code",
   "execution_count": 5,
   "metadata": {},
   "outputs": [],
   "source": [
    "###Creates a csv file from the dataframe\n",
    "#df_fert.to_csv('df_fertilizer_usage.csv', index=False)"
   ]
  },
  {
   "cell_type": "code",
   "execution_count": 6,
   "metadata": {
    "datalore": {
     "hide_input_from_viewers": false,
     "hide_output_from_viewers": false,
     "node_id": "hks0nVaHZKxTTHPAdGYby0",
     "report_properties": {
      "rowId": "pHElvInjkMjiGbYQwn3yPn"
     },
     "type": "CODE"
    }
   },
   "outputs": [
    {
     "data": {
      "text/html": [
       "<div>\n",
       "<style scoped>\n",
       "    .dataframe tbody tr th:only-of-type {\n",
       "        vertical-align: middle;\n",
       "    }\n",
       "\n",
       "    .dataframe tbody tr th {\n",
       "        vertical-align: top;\n",
       "    }\n",
       "\n",
       "    .dataframe thead th {\n",
       "        text-align: right;\n",
       "    }\n",
       "</style>\n",
       "<table border=\"1\" class=\"dataframe\">\n",
       "  <thead>\n",
       "    <tr style=\"text-align: right;\">\n",
       "      <th></th>\n",
       "      <th>Year</th>\n",
       "      <th>Thailand</th>\n",
       "      <th>Vietnam</th>\n",
       "      <th>China</th>\n",
       "      <th>India</th>\n",
       "    </tr>\n",
       "  </thead>\n",
       "  <tbody>\n",
       "    <tr>\n",
       "      <th>count</th>\n",
       "      <td>30.000000</td>\n",
       "      <td>30.000000</td>\n",
       "      <td>30.000000</td>\n",
       "      <td>30.000000</td>\n",
       "      <td>30.000000</td>\n",
       "    </tr>\n",
       "    <tr>\n",
       "      <th>mean</th>\n",
       "      <td>2004.500000</td>\n",
       "      <td>90.966667</td>\n",
       "      <td>224.335998</td>\n",
       "      <td>319.428666</td>\n",
       "      <td>120.008333</td>\n",
       "    </tr>\n",
       "    <tr>\n",
       "      <th>std</th>\n",
       "      <td>8.803408</td>\n",
       "      <td>21.699637</td>\n",
       "      <td>55.367602</td>\n",
       "      <td>69.281898</td>\n",
       "      <td>34.262290</td>\n",
       "    </tr>\n",
       "    <tr>\n",
       "      <th>min</th>\n",
       "      <td>1990.000000</td>\n",
       "      <td>46.420002</td>\n",
       "      <td>87.759995</td>\n",
       "      <td>192.920010</td>\n",
       "      <td>70.650000</td>\n",
       "    </tr>\n",
       "    <tr>\n",
       "      <th>25%</th>\n",
       "      <td>1997.250000</td>\n",
       "      <td>76.852500</td>\n",
       "      <td>206.240007</td>\n",
       "      <td>273.797500</td>\n",
       "      <td>94.795005</td>\n",
       "    </tr>\n",
       "    <tr>\n",
       "      <th>50%</th>\n",
       "      <td>2004.500000</td>\n",
       "      <td>88.424995</td>\n",
       "      <td>233.214995</td>\n",
       "      <td>327.700015</td>\n",
       "      <td>114.130002</td>\n",
       "    </tr>\n",
       "    <tr>\n",
       "      <th>75%</th>\n",
       "      <td>2011.750000</td>\n",
       "      <td>109.852500</td>\n",
       "      <td>262.305000</td>\n",
       "      <td>385.362500</td>\n",
       "      <td>152.677498</td>\n",
       "    </tr>\n",
       "    <tr>\n",
       "      <th>max</th>\n",
       "      <td>2019.000000</td>\n",
       "      <td>127.140000</td>\n",
       "      <td>304.360020</td>\n",
       "      <td>421.530000</td>\n",
       "      <td>171.760000</td>\n",
       "    </tr>\n",
       "  </tbody>\n",
       "</table>\n",
       "</div>"
      ],
      "text/plain": [
       "              Year    Thailand     Vietnam       China       India\n",
       "count    30.000000   30.000000   30.000000   30.000000   30.000000\n",
       "mean   2004.500000   90.966667  224.335998  319.428666  120.008333\n",
       "std       8.803408   21.699637   55.367602   69.281898   34.262290\n",
       "min    1990.000000   46.420002   87.759995  192.920010   70.650000\n",
       "25%    1997.250000   76.852500  206.240007  273.797500   94.795005\n",
       "50%    2004.500000   88.424995  233.214995  327.700015  114.130002\n",
       "75%    2011.750000  109.852500  262.305000  385.362500  152.677498\n",
       "max    2019.000000  127.140000  304.360020  421.530000  171.760000"
      ]
     },
     "execution_count": 6,
     "metadata": {},
     "output_type": "execute_result"
    }
   ],
   "source": [
    "# descriptive statistics\n",
    "df_fert.describe()"
   ]
  },
  {
   "cell_type": "code",
   "execution_count": 7,
   "metadata": {
    "datalore": {
     "hide_input_from_viewers": true,
     "hide_output_from_viewers": true,
     "node_id": "RVZPykjzhmCwuXDcOetQZK",
     "type": "CODE"
    }
   },
   "outputs": [
    {
     "name": "stdout",
     "output_type": "stream",
     "text": [
      "     Country  Year  Rice Yield\n",
      "0      China  1990      5.7261\n",
      "1      China  1991      5.6402\n",
      "2      China  1992      5.8031\n",
      "3      China  1993      5.8479\n",
      "4      China  1994      5.8311\n",
      "..       ...   ...         ...\n",
      "115  Vietnam  2015      5.7597\n",
      "116  Vietnam  2016      5.5738\n",
      "117  Vietnam  2017      5.5476\n",
      "118  Vietnam  2018      5.8180\n",
      "119  Vietnam  2019      5.8371\n",
      "\n",
      "[120 rows x 3 columns]\n",
      "    Year   China   India  Thailand  Vietnam\n",
      "0   1990  5.7261  2.6125    1.9556   3.1815\n",
      "1   1991  5.6402  2.6271    2.2534   3.1133\n",
      "2   1992  5.8031  2.6092    2.1745   3.3342\n",
      "3   1993  5.8479  2.8303    2.0497   3.4815\n",
      "4   1994  5.8311  2.8645    2.3521   3.5657\n",
      "5   1995  6.0248  2.6972    2.4158   3.6898\n",
      "6   1996  6.2122  2.8226    2.4098   3.7689\n",
      "7   1997  6.3192  2.8457    2.3788   3.8768\n",
      "8   1998  6.3662  2.8805    2.4180   4.0007\n",
      "9   1999  6.3447  2.9782    2.4244   4.1018\n",
      "10  2000  6.2716  2.8508    2.6128   4.2432\n",
      "11  2001  6.1633  3.1158    2.8739   4.2853\n",
      "12  2002  6.1890  2.6163    2.9338   4.5903\n",
      "13  2003  6.0607  3.1177    2.9339   4.6387\n",
      "14  2004  6.3106  2.9756    2.8895   4.8553\n",
      "15  2005  6.2602  3.1537    2.9974   4.8891\n",
      "16  2006  6.2796  3.1759    2.9503   4.8943\n",
      "17  2007  6.4330  3.2924    3.0441   4.9869\n",
      "18  2008  6.5625  3.2509    2.9974   5.2336\n",
      "19  2009  6.5853  3.2366    2.9079   5.2372\n",
      "20  2010  6.5530  3.3587    2.9921   5.3416\n",
      "21  2011  6.6873  3.5878    3.1867   5.5383\n",
      "22  2012  6.7769  3.6909    3.1865   5.6353\n",
      "23  2013  6.7173  3.6243    3.1463   5.5726\n",
      "24  2014  6.8132  3.5868    3.0586   5.7538\n",
      "25  2015  6.8913  3.6002    2.8506   5.7597\n",
      "26  2016  6.8657  3.7401    2.9740   5.5738\n",
      "27  2017  6.9169  3.8639    3.0690   5.5476\n",
      "28  2018  7.0266  3.9568    3.0380   5.8180\n",
      "29  2019  7.0601  4.0837    2.9164   5.8371\n"
     ]
    }
   ],
   "source": [
    "from copy import deepcopy\n",
    "#RICE YIELD\n",
    "master_df: pd.DataFrame = pd.read_csv(\"../Raw Data/rice-yields.csv\")\n",
    "working_df = deepcopy(master_df)\n",
    "###Drop unused columns\n",
    "working_df.drop(['Code'], axis=1, inplace = True)\n",
    "#rename column names\n",
    "working_df.rename(columns={\"Entity\": \"Country\", \"Rice | 00000027 || Yield | 005419 || tonnes per hectare\": \"Rice Yield\"}, inplace = True)\n",
    "\n",
    "\n",
    "###Get dates between 1990 and 2019.\n",
    "###This is like making another copy? So we are not modifying the working_df!\n",
    "working_df_dated = working_df[(working_df.Year >= 1990) & (working_df.Year <= 2019)]\n",
    "\n",
    "###Get selected countries.\n",
    "countries = [\"China\", \"India\", \"Thailand\", \"Vietnam\"]\n",
    "working_df_dated_country = working_df_dated[working_df_dated.Country.isin(countries)]\n",
    "\n",
    "working_df_dated_country.reset_index(drop = True, inplace = True)\n",
    "\n",
    "###Finalized df for crop yields for 4 countries.\n",
    "print(working_df_dated_country)\n",
    "\n",
    "df_rice = pd.DataFrame()\n",
    "df_rice[\"Year\"] =working_df_dated_country[\"Year\"].unique()\n",
    "\n",
    "for country in countries:\n",
    "    country_data = working_df_dated_country[working_df_dated_country.Country == country].reset_index()\n",
    "    country_data =country_data[\"Rice Yield\"]\n",
    "    df_rice[country] = country_data\n",
    "print(df_rice)"
   ]
  },
  {
   "cell_type": "markdown",
   "metadata": {},
   "source": [
    "## Scatterplots"
   ]
  },
  {
   "cell_type": "code",
   "execution_count": 8,
   "metadata": {
    "datalore": {
     "hide_input_from_viewers": false,
     "hide_output_from_viewers": false,
     "node_id": "bKxmRVakTS3syBSsJ9KfgC",
     "report_properties": {
      "rowId": "bzn5pdamEb5Tl0BRBeYebw"
     },
     "type": "CODE"
    }
   },
   "outputs": [],
   "source": [
    "# plot each country against crop yield\n",
    "#China\n",
    "df_China_rice = pd.DataFrame()\n",
    "df_China_rice[\"Year\"] = df_rice[\"Year\"]\n",
    "df_China_rice[\"Yield\"] = df_rice[\"China\"]\n",
    "df_China_rice[\"Fertiliser\"] = df_fert[\"China\"]\n",
    "\n",
    "#India\n",
    "df_India_rice = pd.DataFrame()\n",
    "df_India_rice[\"Year\"] = df_rice[\"Year\"]\n",
    "df_India_rice[\"Yield\"] = df_rice[\"India\"]\n",
    "df_India_rice[\"Fertiliser\"] = df_fert[\"India\"]\n",
    "\n",
    "#Thailand\n",
    "df_Thai_rice = pd.DataFrame()\n",
    "df_Thai_rice[\"Year\"] = df_rice[\"Year\"]\n",
    "df_Thai_rice[\"Yield\"] = df_rice[\"Thailand\"]\n",
    "df_Thai_rice[\"Fertiliser\"] = df_fert[\"Thailand\"]\n",
    "\n",
    "#Vietnam\n",
    "df_Vietnam_rice = pd.DataFrame()\n",
    "df_Vietnam_rice[\"Year\"] = df_rice[\"Year\"]\n",
    "df_Vietnam_rice[\"Yield\"] = df_rice[\"Vietnam\"]\n",
    "df_Vietnam_rice[\"Fertiliser\"] = df_fert[\"Vietnam\"]"
   ]
  },
  {
   "cell_type": "code",
   "execution_count": 9,
   "metadata": {
    "datalore": {
     "hide_input_from_viewers": true,
     "hide_output_from_viewers": true,
     "node_id": "zgHr3woMgc50sEdjl4MEgo",
     "type": "CODE"
    }
   },
   "outputs": [
    {
     "data": {
      "text/plain": [
       "Text(0, 0.5, 'Rice Yield')"
      ]
     },
     "execution_count": 9,
     "metadata": {},
     "output_type": "execute_result"
    },
    {
     "data": {
      "image/png": "[encoded data removed]",
      "text/plain": [
       "<Figure size 432x288 with 1 Axes>"
      ]
     },
     "metadata": {
      "needs_background": "light"
     },
     "output_type": "display_data"
    }
   ],
   "source": [
    "# visualization with analysis\n",
    "#against crop yield\n",
    "import seaborn as sns\n",
    "#China\n",
    "china_plot = sns.scatterplot(x=\"Fertiliser\", y=\"Yield\", data=df_China_rice)\n",
    "china_plot.set_xlabel(\"Fertiliser use\")\n",
    "china_plot.set_ylabel(\"Rice Yield\")\n"
   ]
  },
  {
   "cell_type": "code",
   "execution_count": 10,
   "metadata": {
    "datalore": {
     "hide_input_from_viewers": true,
     "hide_output_from_viewers": true,
     "node_id": "jJUs9SpXf4e3WsGU0RRlvL",
     "type": "CODE"
    }
   },
   "outputs": [
    {
     "data": {
      "text/plain": [
       "Text(0, 0.5, 'Rice Yield')"
      ]
     },
     "execution_count": 10,
     "metadata": {},
     "output_type": "execute_result"
    },
    {
     "data": {
      "image/png": "[encoded data removed]",
      "text/plain": [
       "<Figure size 432x288 with 1 Axes>"
      ]
     },
     "metadata": {
      "needs_background": "light"
     },
     "output_type": "display_data"
    }
   ],
   "source": [
    "#India\n",
    "india_plot = sns.scatterplot(x=\"Fertiliser\", y = \"Yield\", data=df_India_rice)\n",
    "india_plot.set_xlabel(\"Fertiliser use\")\n",
    "india_plot.set_ylabel(\"Rice Yield\")"
   ]
  },
  {
   "cell_type": "code",
   "execution_count": 11,
   "metadata": {
    "datalore": {
     "hide_input_from_viewers": true,
     "hide_output_from_viewers": true,
     "node_id": "8YaeoDUgvF6MfCPtiVKkDi",
     "type": "CODE"
    }
   },
   "outputs": [
    {
     "data": {
      "text/plain": [
       "Text(0, 0.5, 'Rice Yield')"
      ]
     },
     "execution_count": 11,
     "metadata": {},
     "output_type": "execute_result"
    },
    {
     "data": {
      "image/png": "[encoded data removed]",
      "text/plain": [
       "<Figure size 432x288 with 1 Axes>"
      ]
     },
     "metadata": {
      "needs_background": "light"
     },
     "output_type": "display_data"
    }
   ],
   "source": [
    "#thailand\n",
    "thai_plot = sns.scatterplot(x=\"Fertiliser\", y = \"Yield\", data=df_Thai_rice)\n",
    "thai_plot.set_xlabel(\"Fertiliser use\")\n",
    "thai_plot.set_ylabel(\"Rice Yield\")"
   ]
  },
  {
   "cell_type": "code",
   "execution_count": 12,
   "metadata": {
    "datalore": {
     "hide_input_from_viewers": true,
     "hide_output_from_viewers": true,
     "node_id": "S1r8JOXfLTMfaOyv9JWC0c",
     "type": "CODE"
    }
   },
   "outputs": [
    {
     "data": {
      "text/plain": [
       "Text(0, 0.5, 'Rice Yield')"
      ]
     },
     "execution_count": 12,
     "metadata": {},
     "output_type": "execute_result"
    },
    {
     "data": {
      "image/png": "[encoded data removed]",
      "text/plain": [
       "<Figure size 432x288 with 1 Axes>"
      ]
     },
     "metadata": {
      "needs_background": "light"
     },
     "output_type": "display_data"
    }
   ],
   "source": [
    "#vietnam\n",
    "viet_plot = sns.scatterplot(x=\"Fertiliser\", y = \"Yield\", data=df_Vietnam_rice)\n",
    "viet_plot.set_xlabel(\"Fertiliser use\")\n",
    "viet_plot.set_ylabel(\"Rice Yield\")"
   ]
  }
 ],
 "metadata": {
  "datalore": {
   "base_environment": "default",
   "computation_mode": "JUPYTER",
   "package_manager": "pip",
   "packages": [],
   "report_row_ids": [
    "nym1txIbAL1QUtIWMcc4dF",
    "mgjkoeWIhUZ3lGLWxeR3eK",
    "Xwi8Q5EbjR8fQY0oXOhdcL",
    "kP9omGXslFWmIZMyDr3FmV",
    "BNaZWulah3njBh1VhzRi5L",
    "cmYOPFrJLq3QW98ADBVkw7",
    "u7PK5vSkEZI5Y1lv4stwBh",
    "U4iK1pumBIilyRYpIpU9qk",
    "35fO80JhwhwottQfJrFrMr",
    "pHElvInjkMjiGbYQwn3yPn",
    "bzn5pdamEb5Tl0BRBeYebw",
    "GamgHII2OvKjXUGlY1w1Ek",
    "SsDVu0yUVNDuNZYeEYwteS",
    "s0SC0lmFh82l3WAhfTswLN",
    "uZ5ffnSPVPXLUu7rohOvlC",
    "GgYbbMBd0G601y1TuzDJWH",
    "MHtXW5Qs3KPFF46snNDHrV",
    "dqR65vHTUflz3eDpSo6dSG",
    "OZpS977tyeY1pneHNSecGQ",
    "d7TExQb160hqdroSQoG0j9",
    "MxBBm68YOZW7dAe4ipLGRy",
    "8lODleb9cUdM3YcVR1OrpU",
    "kAydwbIAXsj3uQF6pjY8j4",
    "z6nccjUValeDy55KLs1xi5",
    "ZggoLiaXPB90qPB9VE53U2",
    "8JWxeMbkY4Sh3gTsNOSRSs",
    "TR1Qhq0O24YCV5Lr0thJxU",
    "n6bnoV4FbLnmw5T49T74sz",
    "kQ3b2fvhDXKFd7MkSb6Uq7",
    "OqyaH3OG33jRzzbimWqwVK"
   ],
   "version": 3
  },
  "kernelspec": {
   "display_name": "Python 3 [3.10]",
   "language": "python",
   "name": "python3"
  },
  "language_info": {
   "codemirror_mode": {
    "name": "ipython",
    "version": 3
   },
   "file_extension": ".py",
   "mimetype": "text/x-python",
   "name": "python",
   "nbconvert_exporter": "python",
   "pygments_lexer": "ipython3",
   "version": "3.10.2"
  }
 },
 "nbformat": 4,
 "nbformat_minor": 4
}
