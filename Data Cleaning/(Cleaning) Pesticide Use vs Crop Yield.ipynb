{
 "cells": [
  {
   "cell_type": "markdown",
   "id": "db9b5461-b018-4425-abbf-2025dd636fff",
   "metadata": {},
   "source": [
    "# Pesticide Use"
   ]
  },
  {
   "cell_type": "code",
   "execution_count": 6,
   "id": "137c7ffa",
   "metadata": {},
   "outputs": [],
   "source": [
    "import pandas as pd\n",
    "import numpy as np\n",
    "import matplotlib.pyplot as plt\n",
    "import matplotlib.axes as axes\n",
    "from IPython.display import display\n",
    "from copy import deepcopy"
   ]
  },
  {
   "cell_type": "code",
   "execution_count": 7,
   "id": "67cc18e9",
   "metadata": {},
   "outputs": [
    {
     "name": "stdout",
     "output_type": "stream",
     "text": [
      "    Domain Code          Domain  Area Code (M49)      Area  Element Code  \\\n",
      "0            RP  Pesticides Use              159     China          5159   \n",
      "1            RP  Pesticides Use              159     China          5159   \n",
      "2            RP  Pesticides Use              159     China          5159   \n",
      "3            RP  Pesticides Use              159     China          5159   \n",
      "4            RP  Pesticides Use              159     China          5159   \n",
      "..          ...             ...              ...       ...           ...   \n",
      "127          RP  Pesticides Use              704  Viet Nam          5159   \n",
      "128          RP  Pesticides Use              704  Viet Nam          5159   \n",
      "129          RP  Pesticides Use              704  Viet Nam          5159   \n",
      "130          RP  Pesticides Use              704  Viet Nam          5159   \n",
      "131          RP  Pesticides Use              704  Viet Nam          5159   \n",
      "\n",
      "                      Element  Item Code                Item  Year Code  Year  \\\n",
      "0    Use per area of cropland       1357  Pesticides (total)       1990  1990   \n",
      "1    Use per area of cropland       1357  Pesticides (total)       1991  1991   \n",
      "2    Use per area of cropland       1357  Pesticides (total)       1992  1992   \n",
      "3    Use per area of cropland       1357  Pesticides (total)       1993  1993   \n",
      "4    Use per area of cropland       1357  Pesticides (total)       1994  1994   \n",
      "..                        ...        ...                 ...        ...   ...   \n",
      "127  Use per area of cropland       1357  Pesticides (total)       2018  2018   \n",
      "128  Use per area of cropland       1357  Pesticides (total)       2019  2019   \n",
      "129  Use per area of cropland       1357  Pesticides (total)       2020  2020   \n",
      "130  Use per area of cropland       1357  Pesticides (total)       2021  2021   \n",
      "131  Use per area of cropland       1357  Pesticides (total)       2022  2022   \n",
      "\n",
      "      Unit  Value Flag Flag Description             Note  \n",
      "0    kg/ha   1.17    E  Estimated value  Estimated Value  \n",
      "1    kg/ha   1.16    E  Estimated value  Estimated Value  \n",
      "2    kg/ha   1.22    E  Estimated value  Estimated Value  \n",
      "3    kg/ha   1.30    E  Estimated value  Estimated Value  \n",
      "4    kg/ha   1.49    E  Estimated value  Estimated Value  \n",
      "..     ...    ...  ...              ...              ...  \n",
      "127  kg/ha  12.12    E  Estimated value  Estimated Value  \n",
      "128  kg/ha  11.47    E  Estimated value  Estimated Value  \n",
      "129  kg/ha   7.62    E  Estimated value  Estimated Value  \n",
      "130  kg/ha  12.69    E  Estimated value  Estimated Value  \n",
      "131  kg/ha  13.87    E  Estimated value  Estimated Value  \n",
      "\n",
      "[132 rows x 15 columns]\n"
     ]
    }
   ],
   "source": [
    "master_df: pd.DataFrame = pd.read_csv(\"../Raw Data/Pesticide Usage.csv\")\n",
    "print(master_df)"
   ]
  },
  {
   "cell_type": "code",
   "execution_count": 8,
   "id": "18249abb",
   "metadata": {},
   "outputs": [
    {
     "name": "stdout",
     "output_type": "stream",
     "text": [
      "    Year  India Rice Yield  China Rice Yield  Thailand Rice Yield  \\\n",
      "0   1990            2.6125            5.7261               1.9556   \n",
      "1   1991            2.6271            5.6402               2.2534   \n",
      "2   1992            2.6092            5.8031               2.1745   \n",
      "3   1993            2.8303            5.8479               2.0497   \n",
      "4   1994            2.8645            5.8311               2.3521   \n",
      "5   1995            2.6972            6.0248               2.4158   \n",
      "6   1996            2.8226            6.2122               2.4098   \n",
      "7   1997            2.8457            6.3192               2.3788   \n",
      "8   1998            2.8805            6.3662               2.4180   \n",
      "9   1999            2.9782            6.3447               2.4244   \n",
      "10  2000            2.8508            6.2716               2.6128   \n",
      "11  2001            3.1158            6.1633               2.8739   \n",
      "12  2002            2.6163            6.1890               2.9338   \n",
      "13  2003            3.1177            6.0607               2.9339   \n",
      "14  2004            2.9756            6.3106               2.8895   \n",
      "15  2005            3.1537            6.2602               2.9974   \n",
      "16  2006            3.1759            6.2796               2.9503   \n",
      "17  2007            3.2924            6.4330               3.0441   \n",
      "18  2008            3.2509            6.5625               2.9974   \n",
      "19  2009            3.2366            6.5853               2.9079   \n",
      "20  2010            3.3587            6.5530               2.9921   \n",
      "21  2011            3.5878            6.6873               3.1867   \n",
      "22  2012            3.6909            6.7769               3.1865   \n",
      "23  2013            3.6243            6.7173               3.1463   \n",
      "24  2014            3.5868            6.8132               3.0586   \n",
      "25  2015            3.6002            6.8913               2.8506   \n",
      "26  2016            3.7401            6.8657               2.9740   \n",
      "27  2017            3.8639            6.9169               3.0690   \n",
      "28  2018            3.9568            7.0266               3.0380   \n",
      "29  2019            4.0837            7.0601               2.9164   \n",
      "\n",
      "    Vietnam Rice Yield  \n",
      "0               3.1815  \n",
      "1               3.1133  \n",
      "2               3.3342  \n",
      "3               3.4815  \n",
      "4               3.5657  \n",
      "5               3.6898  \n",
      "6               3.7689  \n",
      "7               3.8768  \n",
      "8               4.0007  \n",
      "9               4.1018  \n",
      "10              4.2432  \n",
      "11              4.2853  \n",
      "12              4.5903  \n",
      "13              4.6387  \n",
      "14              4.8553  \n",
      "15              4.8891  \n",
      "16              4.8943  \n",
      "17              4.9869  \n",
      "18              5.2336  \n",
      "19              5.2372  \n",
      "20              5.3416  \n",
      "21              5.5383  \n",
      "22              5.6353  \n",
      "23              5.5726  \n",
      "24              5.7538  \n",
      "25              5.7597  \n",
      "26              5.5738  \n",
      "27              5.5476  \n",
      "28              5.8180  \n",
      "29              5.8371  \n"
     ]
    }
   ],
   "source": [
    "rice_yields_df: pd.DataFrame = pd.read_csv(\"../Cleaned Data/df_crop_yield.csv\")\n",
    "print(rice_yields_df)"
   ]
  },
  {
   "cell_type": "code",
   "execution_count": 9,
   "id": "b11e1068",
   "metadata": {},
   "outputs": [],
   "source": [
    "working_df = deepcopy(master_df)"
   ]
  },
  {
   "cell_type": "code",
   "execution_count": 10,
   "id": "02d3e05a",
   "metadata": {},
   "outputs": [
    {
     "name": "stdout",
     "output_type": "stream",
     "text": [
      "   Domain Code          Domain  Area Code (M49)   Area  Element Code  \\\n",
      "0           RP  Pesticides Use              356  India          5159   \n",
      "1           RP  Pesticides Use              356  India          5159   \n",
      "2           RP  Pesticides Use              356  India          5159   \n",
      "3           RP  Pesticides Use              356  India          5159   \n",
      "4           RP  Pesticides Use              356  India          5159   \n",
      "5           RP  Pesticides Use              356  India          5159   \n",
      "6           RP  Pesticides Use              356  India          5159   \n",
      "7           RP  Pesticides Use              356  India          5159   \n",
      "8           RP  Pesticides Use              356  India          5159   \n",
      "9           RP  Pesticides Use              356  India          5159   \n",
      "10          RP  Pesticides Use              356  India          5159   \n",
      "11          RP  Pesticides Use              356  India          5159   \n",
      "12          RP  Pesticides Use              356  India          5159   \n",
      "13          RP  Pesticides Use              356  India          5159   \n",
      "14          RP  Pesticides Use              356  India          5159   \n",
      "15          RP  Pesticides Use              356  India          5159   \n",
      "16          RP  Pesticides Use              356  India          5159   \n",
      "17          RP  Pesticides Use              356  India          5159   \n",
      "18          RP  Pesticides Use              356  India          5159   \n",
      "19          RP  Pesticides Use              356  India          5159   \n",
      "20          RP  Pesticides Use              356  India          5159   \n",
      "21          RP  Pesticides Use              356  India          5159   \n",
      "22          RP  Pesticides Use              356  India          5159   \n",
      "23          RP  Pesticides Use              356  India          5159   \n",
      "24          RP  Pesticides Use              356  India          5159   \n",
      "25          RP  Pesticides Use              356  India          5159   \n",
      "26          RP  Pesticides Use              356  India          5159   \n",
      "27          RP  Pesticides Use              356  India          5159   \n",
      "28          RP  Pesticides Use              356  India          5159   \n",
      "29          RP  Pesticides Use              356  India          5159   \n",
      "30          RP  Pesticides Use              356  India          5159   \n",
      "31          RP  Pesticides Use              356  India          5159   \n",
      "32          RP  Pesticides Use              356  India          5159   \n",
      "\n",
      "                     Element  Item Code                Item  Year Code  Year  \\\n",
      "0   Use per area of cropland       1357  Pesticides (total)       1990  1990   \n",
      "1   Use per area of cropland       1357  Pesticides (total)       1991  1991   \n",
      "2   Use per area of cropland       1357  Pesticides (total)       1992  1992   \n",
      "3   Use per area of cropland       1357  Pesticides (total)       1993  1993   \n",
      "4   Use per area of cropland       1357  Pesticides (total)       1994  1994   \n",
      "5   Use per area of cropland       1357  Pesticides (total)       1995  1995   \n",
      "6   Use per area of cropland       1357  Pesticides (total)       1996  1996   \n",
      "7   Use per area of cropland       1357  Pesticides (total)       1997  1997   \n",
      "8   Use per area of cropland       1357  Pesticides (total)       1998  1998   \n",
      "9   Use per area of cropland       1357  Pesticides (total)       1999  1999   \n",
      "10  Use per area of cropland       1357  Pesticides (total)       2000  2000   \n",
      "11  Use per area of cropland       1357  Pesticides (total)       2001  2001   \n",
      "12  Use per area of cropland       1357  Pesticides (total)       2002  2002   \n",
      "13  Use per area of cropland       1357  Pesticides (total)       2003  2003   \n",
      "14  Use per area of cropland       1357  Pesticides (total)       2004  2004   \n",
      "15  Use per area of cropland       1357  Pesticides (total)       2005  2005   \n",
      "16  Use per area of cropland       1357  Pesticides (total)       2006  2006   \n",
      "17  Use per area of cropland       1357  Pesticides (total)       2007  2007   \n",
      "18  Use per area of cropland       1357  Pesticides (total)       2008  2008   \n",
      "19  Use per area of cropland       1357  Pesticides (total)       2009  2009   \n",
      "20  Use per area of cropland       1357  Pesticides (total)       2010  2010   \n",
      "21  Use per area of cropland       1357  Pesticides (total)       2011  2011   \n",
      "22  Use per area of cropland       1357  Pesticides (total)       2012  2012   \n",
      "23  Use per area of cropland       1357  Pesticides (total)       2013  2013   \n",
      "24  Use per area of cropland       1357  Pesticides (total)       2014  2014   \n",
      "25  Use per area of cropland       1357  Pesticides (total)       2015  2015   \n",
      "26  Use per area of cropland       1357  Pesticides (total)       2016  2016   \n",
      "27  Use per area of cropland       1357  Pesticides (total)       2017  2017   \n",
      "28  Use per area of cropland       1357  Pesticides (total)       2018  2018   \n",
      "29  Use per area of cropland       1357  Pesticides (total)       2019  2019   \n",
      "30  Use per area of cropland       1357  Pesticides (total)       2020  2020   \n",
      "31  Use per area of cropland       1357  Pesticides (total)       2021  2021   \n",
      "32  Use per area of cropland       1357  Pesticides (total)       2022  2022   \n",
      "\n",
      "     Unit  Value Flag Flag Description             Note  \n",
      "0   kg/ha   0.44    E  Estimated value  Estimated Value  \n",
      "1   kg/ha   0.42    E  Estimated value  Estimated Value  \n",
      "2   kg/ha   0.42    E  Estimated value  Estimated Value  \n",
      "3   kg/ha   0.39    E  Estimated value  Estimated Value  \n",
      "4   kg/ha   0.36    E  Estimated value  Estimated Value  \n",
      "5   kg/ha   0.36    E  Estimated value  Estimated Value  \n",
      "6   kg/ha   0.33    E  Estimated value  Estimated Value  \n",
      "7   kg/ha   0.31    E  Estimated value  Estimated Value  \n",
      "8   kg/ha   0.29    E  Estimated value  Estimated Value  \n",
      "9   kg/ha   0.27    E  Estimated value  Estimated Value  \n",
      "10  kg/ha   0.26    E  Estimated value  Estimated Value  \n",
      "11  kg/ha   0.26    E  Estimated value  Estimated Value  \n",
      "12  kg/ha   0.25    E  Estimated value  Estimated Value  \n",
      "13  kg/ha   0.24    E  Estimated value  Estimated Value  \n",
      "14  kg/ha   0.21    E  Estimated value  Estimated Value  \n",
      "15  kg/ha   0.21    E  Estimated value  Estimated Value  \n",
      "16  kg/ha   0.22    E  Estimated value  Estimated Value  \n",
      "17  kg/ha   0.16    E  Estimated value  Estimated Value  \n",
      "18  kg/ha   0.09    E  Estimated value  Estimated Value  \n",
      "19  kg/ha   0.17    E  Estimated value  Estimated Value  \n",
      "20  kg/ha   0.24    E  Estimated value  Estimated Value  \n",
      "21  kg/ha   0.24    E  Estimated value  Estimated Value  \n",
      "22  kg/ha   0.24    E  Estimated value  Estimated Value  \n",
      "23  kg/ha   0.24    E  Estimated value  Estimated Value  \n",
      "24  kg/ha   0.24    E  Estimated value  Estimated Value  \n",
      "25  kg/ha   0.24    E  Estimated value  Estimated Value  \n",
      "26  kg/ha   0.24    E  Estimated value  Estimated Value  \n",
      "27  kg/ha   0.24    E  Estimated value  Estimated Value  \n",
      "28  kg/ha   0.24    E  Estimated value  Estimated Value  \n",
      "29  kg/ha   0.24    E  Estimated value  Estimated Value  \n",
      "30  kg/ha   0.24    E  Estimated value  Estimated Value  \n",
      "31  kg/ha   0.24    E  Estimated value  Estimated Value  \n",
      "32  kg/ha   0.24    E  Estimated value  Estimated Value  \n",
      "    Year\n",
      "0   1990\n",
      "1   1991\n",
      "2   1992\n",
      "3   1993\n",
      "4   1994\n",
      "5   1995\n",
      "6   1996\n",
      "7   1997\n",
      "8   1998\n",
      "9   1999\n",
      "10  2000\n",
      "11  2001\n",
      "12  2002\n",
      "13  2003\n",
      "14  2004\n",
      "15  2005\n",
      "16  2006\n",
      "17  2007\n",
      "18  2008\n",
      "19  2009\n",
      "20  2010\n",
      "21  2011\n",
      "22  2012\n",
      "23  2013\n",
      "24  2014\n",
      "25  2015\n",
      "26  2016\n",
      "27  2017\n",
      "28  2018\n",
      "29  2019\n",
      "30  2020\n",
      "31  2021\n",
      "32  2022\n",
      "    Year  Value  Value  Value  Value\n",
      "0   1990   0.44   1.17   0.91   3.28\n",
      "1   1991   0.42   1.16   0.91   3.25\n",
      "2   1992   0.42   1.22   0.92   3.12\n",
      "3   1993   0.39   1.30   0.92   3.09\n",
      "4   1994   0.36   1.49   1.00   3.07\n",
      "5   1995   0.36   1.64   1.17   3.69\n",
      "6   1996   0.33   1.72   1.14   4.68\n",
      "7   1997   0.31   1.80   1.15   4.58\n",
      "8   1998   0.29   1.84   0.92   2.81\n",
      "9   1999   0.27   1.99   1.08   2.15\n",
      "10  2000   0.26   1.91   0.96   2.03\n",
      "11  2001   0.26   1.89   1.45   2.17\n",
      "12  2002   0.25   1.95   1.92   2.67\n",
      "13  2003   0.24   1.96   2.40   3.13\n",
      "14  2004   0.21   2.04   3.06   3.52\n",
      "15  2005   0.21   2.13   2.03   3.89\n",
      "16  2006   0.22   2.23   1.90   4.40\n",
      "17  2007   0.16   2.34   3.07   4.93\n",
      "18  2008   0.09   2.39   3.00   5.36\n",
      "19  2009   0.17   2.43   3.10   5.75\n",
      "20  2010   0.24   2.51   3.13   5.64\n",
      "21  2011   0.24   2.57   3.96   6.75\n",
      "22  2012   0.24   2.62   3.17   7.57\n",
      "23  2013   0.24   2.63   0.37   8.17\n",
      "24  2014   0.24   2.64   0.99   9.96\n",
      "25  2015   0.24   2.63   1.19   8.90\n",
      "26  2016   0.24   2.58   1.39   8.94\n",
      "27  2017   0.24   2.48   1.54   7.15\n",
      "28  2018   0.24   2.28   1.58  12.12\n",
      "29  2019   0.24   2.12   1.26  11.47\n"
     ]
    }
   ],
   "source": [
    "###Keep relevant columns:\n",
    "india_pesticide_df = working_df[working_df[\"Area\"] == \"India\"].reset_index(drop=True)\n",
    "china_pesticide_df = working_df[working_df[\"Area\"] == \"China\"].reset_index(drop=True)\n",
    "thailand_pesticide_df = working_df[working_df[\"Area\"] == \"Thailand\"].reset_index(drop=True)\n",
    "vietnam_pesticide_df = working_df[working_df[\"Area\"] == \"Viet Nam\"].reset_index(drop=True)\n",
    "print(india_pesticide_df)\n",
    "year_df = india_pesticide_df[[\"Year\"]].reset_index(drop=True)\n",
    "print(year_df)\n",
    "\n",
    "pesticide_df = pd.concat([year_df, india_pesticide_df[[\"Value\"]], china_pesticide_df[[\"Value\"]], thailand_pesticide_df[[\"Value\"]], vietnam_pesticide_df[[\"Value\"]]], axis=1)\n",
    "### We only want to take data form 1990 to 2019.\n",
    "pesticide_df.drop([30,31,32], inplace=True)\n",
    "print(pesticide_df)"
   ]
  },
  {
   "cell_type": "code",
   "execution_count": 11,
   "id": "e5156cd6",
   "metadata": {},
   "outputs": [
    {
     "name": "stdout",
     "output_type": "stream",
     "text": [
      "    Year  India Pesticide  China Pesticide  Thailand Pesticide  \\\n",
      "0   1990             0.44             1.17                0.91   \n",
      "1   1991             0.42             1.16                0.91   \n",
      "2   1992             0.42             1.22                0.92   \n",
      "3   1993             0.39             1.30                0.92   \n",
      "4   1994             0.36             1.49                1.00   \n",
      "5   1995             0.36             1.64                1.17   \n",
      "6   1996             0.33             1.72                1.14   \n",
      "7   1997             0.31             1.80                1.15   \n",
      "8   1998             0.29             1.84                0.92   \n",
      "9   1999             0.27             1.99                1.08   \n",
      "10  2000             0.26             1.91                0.96   \n",
      "11  2001             0.26             1.89                1.45   \n",
      "12  2002             0.25             1.95                1.92   \n",
      "13  2003             0.24             1.96                2.40   \n",
      "14  2004             0.21             2.04                3.06   \n",
      "15  2005             0.21             2.13                2.03   \n",
      "16  2006             0.22             2.23                1.90   \n",
      "17  2007             0.16             2.34                3.07   \n",
      "18  2008             0.09             2.39                3.00   \n",
      "19  2009             0.17             2.43                3.10   \n",
      "20  2010             0.24             2.51                3.13   \n",
      "21  2011             0.24             2.57                3.96   \n",
      "22  2012             0.24             2.62                3.17   \n",
      "23  2013             0.24             2.63                0.37   \n",
      "24  2014             0.24             2.64                0.99   \n",
      "25  2015             0.24             2.63                1.19   \n",
      "26  2016             0.24             2.58                1.39   \n",
      "27  2017             0.24             2.48                1.54   \n",
      "28  2018             0.24             2.28                1.58   \n",
      "29  2019             0.24             2.12                1.26   \n",
      "\n",
      "    Vietnam Pesticide  \n",
      "0                3.28  \n",
      "1                3.25  \n",
      "2                3.12  \n",
      "3                3.09  \n",
      "4                3.07  \n",
      "5                3.69  \n",
      "6                4.68  \n",
      "7                4.58  \n",
      "8                2.81  \n",
      "9                2.15  \n",
      "10               2.03  \n",
      "11               2.17  \n",
      "12               2.67  \n",
      "13               3.13  \n",
      "14               3.52  \n",
      "15               3.89  \n",
      "16               4.40  \n",
      "17               4.93  \n",
      "18               5.36  \n",
      "19               5.75  \n",
      "20               5.64  \n",
      "21               6.75  \n",
      "22               7.57  \n",
      "23               8.17  \n",
      "24               9.96  \n",
      "25               8.90  \n",
      "26               8.94  \n",
      "27               7.15  \n",
      "28              12.12  \n",
      "29              11.47  \n"
     ]
    }
   ],
   "source": [
    "pesticide_df.columns.values[1] = \"India Pesticide\"\n",
    "pesticide_df.columns.values[2] = \"China Pesticide\"\n",
    "pesticide_df.columns.values[3] = \"Thailand Pesticide\"\n",
    "pesticide_df.columns.values[4] = \"Vietnam Pesticide\"\n",
    "print(pesticide_df)"
   ]
  },
  {
   "cell_type": "code",
   "execution_count": 12,
   "id": "9e774b86",
   "metadata": {},
   "outputs": [],
   "source": [
    "###Creates a csv file from the dataframe\n",
    "#pesticide_df.to_csv('df_pesticide_usage.csv', index=False)"
   ]
  },
  {
   "cell_type": "markdown",
   "id": "898ae5ef-9315-4413-91d2-45896be6747e",
   "metadata": {},
   "source": [
    "## Scatterplots"
   ]
  },
  {
   "cell_type": "code",
   "execution_count": 13,
   "id": "23f31ee7",
   "metadata": {},
   "outputs": [
    {
     "data": {
      "text/plain": [
       "<matplotlib.collections.PathCollection at 0x7f014c512c80>"
      ]
     },
     "execution_count": 13,
     "metadata": {},
     "output_type": "execute_result"
    },
    {
     "data": {
      "image/png": "[encoded data removed]",
      "text/plain": [
       "<Figure size 432x288 with 1 Axes>"
      ]
     },
     "metadata": {
      "needs_background": "light"
     },
     "output_type": "display_data"
    }
   ],
   "source": [
    "plt.scatter(pesticide_df[\"India Pesticide\"], rice_yields_df[\"India Rice Yield\"])"
   ]
  },
  {
   "cell_type": "code",
   "execution_count": 14,
   "id": "aece71ea",
   "metadata": {},
   "outputs": [
    {
     "data": {
      "text/plain": [
       "<matplotlib.collections.PathCollection at 0x7f014c3fa740>"
      ]
     },
     "execution_count": 14,
     "metadata": {},
     "output_type": "execute_result"
    },
    {
     "data": {
      "image/png": "[encoded data removed]",
      "text/plain": [
       "<Figure size 432x288 with 1 Axes>"
      ]
     },
     "metadata": {
      "needs_background": "light"
     },
     "output_type": "display_data"
    }
   ],
   "source": [
    "plt.scatter(pesticide_df[\"China Pesticide\"], rice_yields_df[\"China Rice Yield\"])"
   ]
  },
  {
   "cell_type": "code",
   "execution_count": 15,
   "id": "550e4cdb",
   "metadata": {},
   "outputs": [
    {
     "data": {
      "text/plain": [
       "<matplotlib.collections.PathCollection at 0x7f014c5d7dc0>"
      ]
     },
     "execution_count": 15,
     "metadata": {},
     "output_type": "execute_result"
    },
    {
     "data": {
      "image/png": "[encoded data removed]",
      "text/plain": [
       "<Figure size 432x288 with 1 Axes>"
      ]
     },
     "metadata": {
      "needs_background": "light"
     },
     "output_type": "display_data"
    }
   ],
   "source": [
    "plt.scatter(pesticide_df[\"Thailand Pesticide\"], rice_yields_df[\"Thailand Rice Yield\"])"
   ]
  },
  {
   "cell_type": "code",
   "execution_count": 16,
   "id": "9bb17683",
   "metadata": {},
   "outputs": [
    {
     "data": {
      "text/plain": [
       "<matplotlib.collections.PathCollection at 0x7f014a1295a0>"
      ]
     },
     "execution_count": 16,
     "metadata": {},
     "output_type": "execute_result"
    },
    {
     "data": {
      "image/png": "[encoded data removed]",
      "text/plain": [
       "<Figure size 432x288 with 1 Axes>"
      ]
     },
     "metadata": {
      "needs_background": "light"
     },
     "output_type": "display_data"
    }
   ],
   "source": [
    "plt.scatter(pesticide_df[\"Vietnam Pesticide\"], rice_yields_df[\"Vietnam Rice Yield\"])"
   ]
  },
  {
   "cell_type": "code",
   "execution_count": null,
   "id": "890cd178",
   "metadata": {},
   "outputs": [],
   "source": []
  }
 ],
 "metadata": {
  "kernelspec": {
   "display_name": "Python 3 [3.10]",
   "language": "python",
   "name": "python3"
  },
  "language_info": {
   "codemirror_mode": {
    "name": "ipython",
    "version": 3
   },
   "file_extension": ".py",
   "mimetype": "text/x-python",
   "name": "python",
   "nbconvert_exporter": "python",
   "pygments_lexer": "ipython3",
   "version": "3.10.2"
  }
 },
 "nbformat": 4,
 "nbformat_minor": 5
}
