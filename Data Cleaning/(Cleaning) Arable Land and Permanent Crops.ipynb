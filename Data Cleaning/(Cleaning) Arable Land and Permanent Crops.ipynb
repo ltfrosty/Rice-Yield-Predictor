{
 "cells": [
  {
   "cell_type": "markdown",
   "id": "0295200b-bcd5-42d6-a6e1-26a1ccfe0a44",
   "metadata": {},
   "source": [
    "# Arable Land and Permanent Crops"
   ]
  },
  {
   "cell_type": "code",
   "execution_count": 14,
   "id": "d9d9ac3b",
   "metadata": {},
   "outputs": [],
   "source": [
    "import pandas as pd\n",
    "import numpy as np\n",
    "import matplotlib.pyplot as plt\n",
    "import matplotlib.axes as axes\n",
    "from IPython.display import display\n",
    "from copy import deepcopy"
   ]
  },
  {
   "cell_type": "code",
   "execution_count": 15,
   "id": "73b38c6a",
   "metadata": {},
   "outputs": [
    {
     "name": "stdout",
     "output_type": "stream",
     "text": [
      "    Domain Code    Domain  Area Code (M49)      Area  Element Code Element  \\\n",
      "0            RL  Land Use              159     China          5110    Area   \n",
      "1            RL  Land Use              159     China          5110    Area   \n",
      "2            RL  Land Use              159     China          5110    Area   \n",
      "3            RL  Land Use              159     China          5110    Area   \n",
      "4            RL  Land Use              159     China          5110    Area   \n",
      "..          ...       ...              ...       ...           ...     ...   \n",
      "491          RL  Land Use              704  Viet Nam          5110    Area   \n",
      "492          RL  Land Use              704  Viet Nam          5110    Area   \n",
      "493          RL  Land Use              704  Viet Nam          5110    Area   \n",
      "494          RL  Land Use              704  Viet Nam          5110    Area   \n",
      "495          RL  Land Use              704  Viet Nam          5110    Area   \n",
      "\n",
      "     Item Code             Item  Year Code  Year     Unit      Value Flag  \\\n",
      "0         6621      Arable land       1961  1961  1000 ha  103397.00    E   \n",
      "1         6621      Arable land       1962  1962  1000 ha  103100.00    E   \n",
      "2         6621      Arable land       1963  1963  1000 ha  102903.00    E   \n",
      "3         6621      Arable land       1964  1964  1000 ha  102705.00    E   \n",
      "4         6621      Arable land       1965  1965  1000 ha  102458.00    E   \n",
      "..         ...              ...        ...   ...      ...        ...  ...   \n",
      "491       6650  Permanent crops       2018  2018  1000 ha    4546.40    A   \n",
      "492       6650  Permanent crops       2019  2019  1000 ha    4962.00    A   \n",
      "493       6650  Permanent crops       2020  2020  1000 ha    4931.00    A   \n",
      "494       6650  Permanent crops       2021  2021  1000 ha    4924.72    A   \n",
      "495       6650  Permanent crops       2022  2022  1000 ha    4920.00    A   \n",
      "\n",
      "    Flag Description  Note  \n",
      "0    Estimated value   NaN  \n",
      "1    Estimated value   NaN  \n",
      "2    Estimated value   NaN  \n",
      "3    Estimated value   NaN  \n",
      "4    Estimated value   NaN  \n",
      "..               ...   ...  \n",
      "491  Official figure   NaN  \n",
      "492  Official figure   NaN  \n",
      "493  Official figure   NaN  \n",
      "494  Official figure   NaN  \n",
      "495  Official figure   NaN  \n",
      "\n",
      "[496 rows x 15 columns]\n"
     ]
    }
   ],
   "source": [
    "master_df: pd.DataFrame = pd.read_csv(\"/Users/yxlsa/Desktop/SUTD/DTPIII/Raw Data/Arable Land and Permanent Crops.csv\")\n",
    "print(master_df)"
   ]
  },
  {
   "cell_type": "code",
   "execution_count": 16,
   "id": "2f4bc8d7",
   "metadata": {},
   "outputs": [],
   "source": [
    "working_df = deepcopy(master_df)"
   ]
  },
  {
   "cell_type": "code",
   "execution_count": 17,
   "id": "62bc66a7",
   "metadata": {},
   "outputs": [
    {
     "name": "stdout",
     "output_type": "stream",
     "text": [
      "         Area             Item  Year      Value\n",
      "0       China      Arable land  1961  103397.00\n",
      "1       China      Arable land  1962  103100.00\n",
      "2       China      Arable land  1963  102903.00\n",
      "3       China      Arable land  1964  102705.00\n",
      "4       China      Arable land  1965  102458.00\n",
      "..        ...              ...   ...        ...\n",
      "491  Viet Nam  Permanent crops  2018    4546.40\n",
      "492  Viet Nam  Permanent crops  2019    4962.00\n",
      "493  Viet Nam  Permanent crops  2020    4931.00\n",
      "494  Viet Nam  Permanent crops  2021    4924.72\n",
      "495  Viet Nam  Permanent crops  2022    4920.00\n",
      "\n",
      "[496 rows x 4 columns]\n"
     ]
    }
   ],
   "source": [
    "###Drop all irrelevant columns\n",
    "working_df.drop([\"Domain Code\", \"Domain\", \"Area Code (M49)\", \"Element Code\", \"Element\", \"Item Code\", \"Year Code\", \"Unit\", \"Flag\", \"Flag Description\", \"Note\"], axis=1, inplace = True)\n",
    "print(working_df)"
   ]
  },
  {
   "cell_type": "code",
   "execution_count": 18,
   "id": "d45e0a75",
   "metadata": {},
   "outputs": [],
   "source": [
    "###Separate the data into Arable Land and Permanent Crops\n",
    "arable_land_df = working_df[working_df[\"Item\"] == \"Arable land\"]\n",
    "#print(arable_land_df)\n",
    "\n",
    "arable_land_dated_df = arable_land_df[(arable_land_df.Year >= 1990) & (arable_land_df.Year <= 2019)]\n",
    "#print(arable_land_dated_df)"
   ]
  },
  {
   "cell_type": "code",
   "execution_count": 19,
   "id": "913c7281",
   "metadata": {},
   "outputs": [],
   "source": [
    "permanent_crops_df = working_df[working_df[\"Item\"] == \"Permanent crops\"]\n",
    "#print(permanent_crops_df)\n",
    "\n",
    "permanent_crops_dated_df = permanent_crops_df[(permanent_crops_df.Year >= 1990) & (permanent_crops_df.Year <= 2019)]\n",
    "#print(permanent_crops_dated_df)"
   ]
  },
  {
   "cell_type": "code",
   "execution_count": 20,
   "id": "963aa072",
   "metadata": {},
   "outputs": [
    {
     "name": "stdout",
     "output_type": "stream",
     "text": [
      "     Area         Item  Year        Value\n",
      "0   India  Arable land  1990  163459.0000\n",
      "1   India  Arable land  1991  163182.0000\n",
      "2   India  Arable land  1992  162706.0000\n",
      "3   India  Arable land  1993  162586.0000\n",
      "4   India  Arable land  1994  162525.0000\n",
      "5   India  Arable land  1995  161911.0000\n",
      "6   India  Arable land  1996  161025.0000\n",
      "7   India  Arable land  1997  161601.0000\n",
      "8   India  Arable land  1998  161409.0000\n",
      "9   India  Arable land  1999  160975.0000\n",
      "10  India  Arable land  2000  160930.0000\n",
      "11  India  Arable land  2001  160325.0000\n",
      "12  India  Arable land  2002  160432.0000\n",
      "13  India  Arable land  2003  159799.0000\n",
      "14  India  Arable land  2004  159681.0000\n",
      "15  India  Arable land  2005  159444.0000\n",
      "16  India  Arable land  2006  158662.0000\n",
      "17  India  Arable land  2007  158022.0000\n",
      "18  India  Arable land  2008  157995.0000\n",
      "19  India  Arable land  2009  157924.0000\n",
      "20  India  Arable land  2010  157009.0000\n",
      "21  India  Arable land  2011  156979.0000\n",
      "22  India  Arable land  2012  156546.0000\n",
      "23  India  Arable land  2013  156442.0000\n",
      "24  India  Arable land  2014  156463.0000\n",
      "25  India  Arable land  2015  156413.0000\n",
      "26  India  Arable land  2016  156317.0000\n",
      "27  India  Arable land  2017  155895.1360\n",
      "28  India  Arable land  2018  155477.9110\n",
      "29  India  Arable land  2019  155369.0764\n",
      "     Area             Item  Year    Value\n",
      "0   India  Permanent crops  1990   6650.0\n",
      "1   India  Permanent crops  1991   7000.0\n",
      "2   India  Permanent crops  1992   7300.0\n",
      "3   India  Permanent crops  1993   7700.0\n",
      "4   India  Permanent crops  1994   7800.0\n",
      "5   India  Permanent crops  1995   8000.0\n",
      "6   India  Permanent crops  1996   8500.0\n",
      "7   India  Permanent crops  1997   8500.0\n",
      "8   India  Permanent crops  1998   8620.0\n",
      "9   India  Permanent crops  1999   9150.0\n",
      "10  India  Permanent crops  2000   9200.0\n",
      "11  India  Permanent crops  2001   9500.0\n",
      "12  India  Permanent crops  2002   9600.0\n",
      "13  India  Permanent crops  2003  10000.0\n",
      "14  India  Permanent crops  2004  10210.0\n",
      "15  India  Permanent crops  2005  10230.0\n",
      "16  India  Permanent crops  2006  10800.0\n",
      "17  India  Permanent crops  2007  11180.0\n",
      "18  India  Permanent crops  2008  11400.0\n",
      "19  India  Permanent crops  2009  11800.0\n",
      "20  India  Permanent crops  2010  12225.0\n",
      "21  India  Permanent crops  2011  12390.0\n",
      "22  India  Permanent crops  2012  12800.0\n",
      "23  India  Permanent crops  2013  13000.0\n",
      "24  India  Permanent crops  2014  13000.0\n",
      "25  India  Permanent crops  2015  13000.0\n",
      "26  India  Permanent crops  2016  13000.0\n",
      "27  India  Permanent crops  2017  13000.0\n",
      "28  India  Permanent crops  2018  13300.0\n",
      "29  India  Permanent crops  2019  13300.0\n"
     ]
    }
   ],
   "source": [
    "###Get India cropland\n",
    "india_arable_land_df = arable_land_dated_df[arable_land_dated_df[\"Area\"] == \"India\"].reset_index(drop=True)\n",
    "print(india_arable_land_df)\n",
    "\n",
    "india_permanent_crops_df = permanent_crops_dated_df[permanent_crops_dated_df[\"Area\"] == \"India\"].reset_index(drop=True)\n",
    "print(india_permanent_crops_df)\n",
    "\n",
    "india_cropland_df = india_arable_land_df.loc[:, [\"Value\"]] + india_permanent_crops_df.loc[:, [\"Value\"]]\n",
    "india_cropland_df.rename(columns={\"Value\": \"India Crop Land\"}, inplace = True)\n",
    "#print(india_cropland_df)\n",
    "#print(type(india_cropland_df))"
   ]
  },
  {
   "cell_type": "code",
   "execution_count": 21,
   "id": "10a99fa4",
   "metadata": {},
   "outputs": [],
   "source": [
    "###Get a df for the years\n",
    "#year_df = arable_land_df.loc[:, \"Year\"] ###This returns a series\n",
    "year_df = india_arable_land_df.loc[:, [\"Year\"]] ###This returns a df!\n",
    "#print(year_df)\n",
    "#print(type(year_df))"
   ]
  },
  {
   "cell_type": "code",
   "execution_count": 22,
   "id": "8ef9ceed",
   "metadata": {},
   "outputs": [],
   "source": [
    "###Get China cropland\n",
    "china_arable_land_df = arable_land_dated_df[arable_land_dated_df[\"Area\"] == \"China\"].reset_index(drop=True)\n",
    "#print(china_arable_land_df)\n",
    "\n",
    "china_permanent_crops_df = permanent_crops_dated_df[permanent_crops_dated_df[\"Area\"] == \"China\"].reset_index(drop=True)\n",
    "#print(china_permanent_crops_df)\n",
    "\n",
    "china_cropland_df = china_arable_land_df.loc[:, [\"Value\"]] + china_permanent_crops_df.loc[:, [\"Value\"]]\n",
    "#china_cropland_df = china_cropland_series.to_frame(\"China Crop Land\")\n",
    "china_cropland_df.rename(columns={\"Value\": \"China Crop Land\"}, inplace = True)\n",
    "#print(china_cropland_df)\n",
    "#print(type(china_cropland_df))"
   ]
  },
  {
   "cell_type": "code",
   "execution_count": 23,
   "id": "f8e67a82",
   "metadata": {},
   "outputs": [],
   "source": [
    "###Get Thailand cropland\n",
    "thailand_arable_land_df = arable_land_dated_df[arable_land_dated_df[\"Area\"] == \"Thailand\"].reset_index(drop=True)\n",
    "#print(china_arable_land_df)\n",
    "\n",
    "thailand_permanent_crops_df = permanent_crops_dated_df[permanent_crops_dated_df[\"Area\"] == \"Thailand\"].reset_index(drop=True)\n",
    "#print(china_permanent_crops_df)\n",
    "\n",
    "thailand_cropland_df = thailand_arable_land_df.loc[:, [\"Value\"]] + thailand_permanent_crops_df.loc[:, [\"Value\"]]\n",
    "thailand_cropland_df.rename(columns={\"Value\": \"Thailand Crop Land\"}, inplace = True)\n",
    "#print(thailand_cropland_df)\n",
    "#print(type(thailand_cropland_df))"
   ]
  },
  {
   "cell_type": "code",
   "execution_count": 24,
   "id": "f5893358",
   "metadata": {},
   "outputs": [],
   "source": [
    "###Get Vietnam cropland\n",
    "vietnam_arable_land_df = arable_land_dated_df[arable_land_dated_df[\"Area\"] == \"Viet Nam\"].reset_index(drop=True)\n",
    "#print(china_arable_land_df)\n",
    "\n",
    "vietnam_permanent_crops_df = permanent_crops_dated_df[permanent_crops_dated_df[\"Area\"] == \"Viet Nam\"].reset_index(drop=True)\n",
    "#print(china_permanent_crops_df)\n",
    "\n",
    "vietnam_cropland_df = vietnam_arable_land_df.loc[:, [\"Value\"]] + vietnam_permanent_crops_df.loc[:, [\"Value\"]]\n",
    "vietnam_cropland_df.rename(columns={\"Value\": \"Vietnam Crop Land\"}, inplace = True)\n",
    "#print(vietnam_cropland_df)\n",
    "#print(type(vietnam_cropland_df))"
   ]
  },
  {
   "cell_type": "code",
   "execution_count": 25,
   "id": "413b86cf",
   "metadata": {},
   "outputs": [
    {
     "name": "stdout",
     "output_type": "stream",
     "text": [
      "    Year  India Crop Land  China Crop Land  Thailand Crop Land  \\\n",
      "0   1990      170109.0000      132197.0000          20603.0000   \n",
      "1   1991      170182.0000      133266.0000          20726.0000   \n",
      "2   1992      170006.0000      131583.0000          20574.0000   \n",
      "3   1993      170286.0000      130882.0000          20445.0000   \n",
      "4   1994      170325.0000      130879.0000          20538.0000   \n",
      "5   1995      169911.0000      130880.0000          20631.0000   \n",
      "6   1996      169525.0000      130918.0000          20724.0000   \n",
      "7   1997      170101.0000      130910.2500          20817.0000   \n",
      "8   1998      170029.0000      130904.5000          20909.0000   \n",
      "9   1999      170125.0000      130900.7500          21002.0000   \n",
      "10  2000      170130.0000      130897.0000          21095.0000   \n",
      "11  2001      169825.0000      131488.8444          21188.0000   \n",
      "12  2002      170032.0000      132080.6889          21281.0000   \n",
      "13  2003      169799.0000      132671.5333          21374.0000   \n",
      "14  2004      169891.0000      133257.3778          21467.0000   \n",
      "15  2005      169674.0000      133848.2222          21560.0000   \n",
      "16  2006      169462.0000      134438.0667          21653.0000   \n",
      "17  2007      169202.0000      135027.9111          21745.0000   \n",
      "18  2008      169395.0000      135617.7556          21838.0000   \n",
      "19  2009      169724.0000      136204.6000          21931.0000   \n",
      "20  2010      169234.0000      135449.8000          22024.0000   \n",
      "21  2011      169369.0000      134692.5000          22028.0000   \n",
      "22  2012      169346.0000      133934.8000          22032.0000   \n",
      "23  2013      169442.0000      133179.5000          22036.2654   \n",
      "24  2014      169463.0000      132426.8000          22042.0000   \n",
      "25  2015      169413.0000      131671.5000          22046.0000   \n",
      "26  2016      169317.0000      130916.5000          22042.0000   \n",
      "27  2017      168895.1360      130163.3000          22047.0000   \n",
      "28  2018      168777.9110      129408.6000          22045.6965   \n",
      "29  2019      168669.0764      128656.2000          22200.0000   \n",
      "\n",
      "    Vietnam Crop Land  \n",
      "0              6384.0  \n",
      "1              6425.0  \n",
      "2              6697.0  \n",
      "3              6759.0  \n",
      "4              6812.0  \n",
      "5              6751.0  \n",
      "6              7004.0  \n",
      "7              7202.0  \n",
      "8              7413.0  \n",
      "9              7771.0  \n",
      "10             8138.0  \n",
      "11             8841.0  \n",
      "12             8813.0  \n",
      "13             8895.0  \n",
      "14             9153.6  \n",
      "15             9412.1  \n",
      "16             9436.0  \n",
      "17             9420.6  \n",
      "18             9598.8  \n",
      "19             9650.0  \n",
      "20            10118.1  \n",
      "21            10126.6  \n",
      "22            10151.3  \n",
      "23            10210.8  \n",
      "24            10231.7  \n",
      "25            11505.8  \n",
      "26            11530.2  \n",
      "27            11526.8  \n",
      "28            11498.5  \n",
      "29            11746.0  \n"
     ]
    }
   ],
   "source": [
    "cropland_df = pd.concat([year_df, india_cropland_df, china_cropland_df, thailand_cropland_df, vietnam_cropland_df], axis=1)\n",
    "print(cropland_df)"
   ]
  },
  {
   "cell_type": "code",
   "execution_count": 26,
   "id": "fcd4d56e",
   "metadata": {},
   "outputs": [],
   "source": [
    "###Creates a csv file from the dataframe\n",
    "#cropland_df.to_csv('df_cropland.csv', index=False)"
   ]
  },
  {
   "cell_type": "code",
   "execution_count": null,
   "id": "52083aba",
   "metadata": {},
   "outputs": [],
   "source": []
  },
  {
   "cell_type": "code",
   "execution_count": null,
   "id": "a785ce6e",
   "metadata": {},
   "outputs": [],
   "source": []
  }
 ],
 "metadata": {
  "kernelspec": {
   "display_name": "Python 3 [3.10]",
   "language": "python",
   "name": "python3"
  },
  "language_info": {
   "codemirror_mode": {
    "name": "ipython",
    "version": 3
   },
   "file_extension": ".py",
   "mimetype": "text/x-python",
   "name": "python",
   "nbconvert_exporter": "python",
   "pygments_lexer": "ipython3",
   "version": "3.10.2"
  }
 },
 "nbformat": 4,
 "nbformat_minor": 5
}
