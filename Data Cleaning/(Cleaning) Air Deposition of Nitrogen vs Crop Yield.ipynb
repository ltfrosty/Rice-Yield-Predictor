{
 "cells": [
  {
   "cell_type": "markdown",
   "id": "b914aa65-e043-4fbd-a86c-6e92e7dee094",
   "metadata": {},
   "source": [
    "# Air Deposition of Nitrogen"
   ]
  },
  {
   "cell_type": "code",
   "execution_count": 54,
   "id": "137c7ffa",
   "metadata": {},
   "outputs": [],
   "source": [
    "import pandas as pd\n",
    "import numpy as np\n",
    "import matplotlib.pyplot as plt\n",
    "import matplotlib.axes as axes\n",
    "from IPython.display import display\n",
    "from copy import deepcopy"
   ]
  },
  {
   "cell_type": "code",
   "execution_count": 55,
   "id": "67cc18e9",
   "metadata": {},
   "outputs": [
    {
     "name": "stdout",
     "output_type": "stream",
     "text": [
      "    Domain Code                     Domain  Area Code (M49)      Area  \\\n",
      "0           ESB  Cropland Nutrient Balance              159     China   \n",
      "1           ESB  Cropland Nutrient Balance              159     China   \n",
      "2           ESB  Cropland Nutrient Balance              159     China   \n",
      "3           ESB  Cropland Nutrient Balance              159     China   \n",
      "4           ESB  Cropland Nutrient Balance              159     China   \n",
      "..          ...                        ...              ...       ...   \n",
      "243         ESB  Cropland Nutrient Balance              704  Viet Nam   \n",
      "244         ESB  Cropland Nutrient Balance              704  Viet Nam   \n",
      "245         ESB  Cropland Nutrient Balance              704  Viet Nam   \n",
      "246         ESB  Cropland Nutrient Balance              704  Viet Nam   \n",
      "247         ESB  Cropland Nutrient Balance              704  Viet Nam   \n",
      "\n",
      "     Element Code                          Element  Item Code  \\\n",
      "0            7276  Cropland nitrogen per unit area       5076   \n",
      "1            7276  Cropland nitrogen per unit area       5076   \n",
      "2            7276  Cropland nitrogen per unit area       5076   \n",
      "3            7276  Cropland nitrogen per unit area       5076   \n",
      "4            7276  Cropland nitrogen per unit area       5076   \n",
      "..            ...                              ...        ...   \n",
      "243          7276  Cropland nitrogen per unit area       5076   \n",
      "244          7276  Cropland nitrogen per unit area       5076   \n",
      "245          7276  Cropland nitrogen per unit area       5076   \n",
      "246          7276  Cropland nitrogen per unit area       5076   \n",
      "247          7276  Cropland nitrogen per unit area       5076   \n",
      "\n",
      "                       Item  Year Code  Year   Unit    Value Flag  \\\n",
      "0    Atmospheric Deposition       1961  1961  kg/ha   4.6038    E   \n",
      "1    Atmospheric Deposition       1962  1962  kg/ha   4.7036    E   \n",
      "2    Atmospheric Deposition       1963  1963  kg/ha   4.8064    E   \n",
      "3    Atmospheric Deposition       1964  1964  kg/ha   4.9114    E   \n",
      "4    Atmospheric Deposition       1965  1965  kg/ha   5.0184    E   \n",
      "..                      ...        ...   ...    ...      ...  ...   \n",
      "243  Atmospheric Deposition       2018  2018  kg/ha  12.5829    E   \n",
      "244  Atmospheric Deposition       2019  2019  kg/ha  13.0523    E   \n",
      "245  Atmospheric Deposition       2020  2020  kg/ha  12.6925    E   \n",
      "246  Atmospheric Deposition       2021  2021  kg/ha  12.8366    E   \n",
      "247  Atmospheric Deposition       2022  2022  kg/ha  12.5680    E   \n",
      "\n",
      "    Flag Description  Note  \n",
      "0    Estimated value   NaN  \n",
      "1    Estimated value   NaN  \n",
      "2    Estimated value   NaN  \n",
      "3    Estimated value   NaN  \n",
      "4    Estimated value   NaN  \n",
      "..               ...   ...  \n",
      "243  Estimated value   NaN  \n",
      "244  Estimated value   NaN  \n",
      "245  Estimated value   NaN  \n",
      "246  Estimated value   NaN  \n",
      "247  Estimated value   NaN  \n",
      "\n",
      "[248 rows x 15 columns]\n"
     ]
    }
   ],
   "source": [
    "master_df: pd.DataFrame = pd.read_csv(\"../Raw Data/Air Deposition of Nitrogen.csv\")\n",
    "print(master_df)"
   ]
  },
  {
   "cell_type": "code",
   "execution_count": 56,
   "id": "18249abb",
   "metadata": {},
   "outputs": [
    {
     "name": "stdout",
     "output_type": "stream",
     "text": [
      "    Year  India Rice Yield  China Rice Yield  Thailand Rice Yield  \\\n",
      "0   1990            2.6125            5.7261               1.9556   \n",
      "1   1991            2.6271            5.6402               2.2534   \n",
      "2   1992            2.6092            5.8031               2.1745   \n",
      "3   1993            2.8303            5.8479               2.0497   \n",
      "4   1994            2.8645            5.8311               2.3521   \n",
      "5   1995            2.6972            6.0248               2.4158   \n",
      "6   1996            2.8226            6.2122               2.4098   \n",
      "7   1997            2.8457            6.3192               2.3788   \n",
      "8   1998            2.8805            6.3662               2.4180   \n",
      "9   1999            2.9782            6.3447               2.4244   \n",
      "10  2000            2.8508            6.2716               2.6128   \n",
      "11  2001            3.1158            6.1633               2.8739   \n",
      "12  2002            2.6163            6.1890               2.9338   \n",
      "13  2003            3.1177            6.0607               2.9339   \n",
      "14  2004            2.9756            6.3106               2.8895   \n",
      "15  2005            3.1537            6.2602               2.9974   \n",
      "16  2006            3.1759            6.2796               2.9503   \n",
      "17  2007            3.2924            6.4330               3.0441   \n",
      "18  2008            3.2509            6.5625               2.9974   \n",
      "19  2009            3.2366            6.5853               2.9079   \n",
      "20  2010            3.3587            6.5530               2.9921   \n",
      "21  2011            3.5878            6.6873               3.1867   \n",
      "22  2012            3.6909            6.7769               3.1865   \n",
      "23  2013            3.6243            6.7173               3.1463   \n",
      "24  2014            3.5868            6.8132               3.0586   \n",
      "25  2015            3.6002            6.8913               2.8506   \n",
      "26  2016            3.7401            6.8657               2.9740   \n",
      "27  2017            3.8639            6.9169               3.0690   \n",
      "28  2018            3.9568            7.0266               3.0380   \n",
      "29  2019            4.0837            7.0601               2.9164   \n",
      "\n",
      "    Vietnam Rice Yield  \n",
      "0               3.1815  \n",
      "1               3.1133  \n",
      "2               3.3342  \n",
      "3               3.4815  \n",
      "4               3.5657  \n",
      "5               3.6898  \n",
      "6               3.7689  \n",
      "7               3.8768  \n",
      "8               4.0007  \n",
      "9               4.1018  \n",
      "10              4.2432  \n",
      "11              4.2853  \n",
      "12              4.5903  \n",
      "13              4.6387  \n",
      "14              4.8553  \n",
      "15              4.8891  \n",
      "16              4.8943  \n",
      "17              4.9869  \n",
      "18              5.2336  \n",
      "19              5.2372  \n",
      "20              5.3416  \n",
      "21              5.5383  \n",
      "22              5.6353  \n",
      "23              5.5726  \n",
      "24              5.7538  \n",
      "25              5.7597  \n",
      "26              5.5738  \n",
      "27              5.5476  \n",
      "28              5.8180  \n",
      "29              5.8371  \n"
     ]
    }
   ],
   "source": [
    "rice_yields_df: pd.DataFrame = pd.read_csv(\"../Cleaned Data/df_crop_yield.csv\")\n",
    "print(rice_yields_df)"
   ]
  },
  {
   "cell_type": "code",
   "execution_count": 57,
   "id": "b11e1068",
   "metadata": {},
   "outputs": [],
   "source": [
    "working_df = deepcopy(master_df)"
   ]
  },
  {
   "cell_type": "code",
   "execution_count": 58,
   "id": "02d3e05a",
   "metadata": {},
   "outputs": [
    {
     "name": "stdout",
     "output_type": "stream",
     "text": [
      "   Domain Code                     Domain  Area Code (M49)   Area  \\\n",
      "0          ESB  Cropland Nutrient Balance              356  India   \n",
      "1          ESB  Cropland Nutrient Balance              356  India   \n",
      "2          ESB  Cropland Nutrient Balance              356  India   \n",
      "3          ESB  Cropland Nutrient Balance              356  India   \n",
      "4          ESB  Cropland Nutrient Balance              356  India   \n",
      "..         ...                        ...              ...    ...   \n",
      "57         ESB  Cropland Nutrient Balance              356  India   \n",
      "58         ESB  Cropland Nutrient Balance              356  India   \n",
      "59         ESB  Cropland Nutrient Balance              356  India   \n",
      "60         ESB  Cropland Nutrient Balance              356  India   \n",
      "61         ESB  Cropland Nutrient Balance              356  India   \n",
      "\n",
      "    Element Code                          Element  Item Code  \\\n",
      "0           7276  Cropland nitrogen per unit area       5076   \n",
      "1           7276  Cropland nitrogen per unit area       5076   \n",
      "2           7276  Cropland nitrogen per unit area       5076   \n",
      "3           7276  Cropland nitrogen per unit area       5076   \n",
      "4           7276  Cropland nitrogen per unit area       5076   \n",
      "..           ...                              ...        ...   \n",
      "57          7276  Cropland nitrogen per unit area       5076   \n",
      "58          7276  Cropland nitrogen per unit area       5076   \n",
      "59          7276  Cropland nitrogen per unit area       5076   \n",
      "60          7276  Cropland nitrogen per unit area       5076   \n",
      "61          7276  Cropland nitrogen per unit area       5076   \n",
      "\n",
      "                      Item  Year Code  Year   Unit    Value Flag  \\\n",
      "0   Atmospheric Deposition       1961  1961  kg/ha   7.6268    E   \n",
      "1   Atmospheric Deposition       1962  1962  kg/ha   7.7230    E   \n",
      "2   Atmospheric Deposition       1963  1963  kg/ha   7.8223    E   \n",
      "3   Atmospheric Deposition       1964  1964  kg/ha   7.9210    E   \n",
      "4   Atmospheric Deposition       1965  1965  kg/ha   8.0209    E   \n",
      "..                     ...        ...   ...    ...      ...  ...   \n",
      "57  Atmospheric Deposition       2018  2018  kg/ha  20.0731    E   \n",
      "58  Atmospheric Deposition       2019  2019  kg/ha  20.1703    E   \n",
      "59  Atmospheric Deposition       2020  2020  kg/ha  20.0677    E   \n",
      "60  Atmospheric Deposition       2021  2021  kg/ha  20.3675    E   \n",
      "61  Atmospheric Deposition       2022  2022  kg/ha  20.6656    E   \n",
      "\n",
      "   Flag Description  Note  \n",
      "0   Estimated value   NaN  \n",
      "1   Estimated value   NaN  \n",
      "2   Estimated value   NaN  \n",
      "3   Estimated value   NaN  \n",
      "4   Estimated value   NaN  \n",
      "..              ...   ...  \n",
      "57  Estimated value   NaN  \n",
      "58  Estimated value   NaN  \n",
      "59  Estimated value   NaN  \n",
      "60  Estimated value   NaN  \n",
      "61  Estimated value   NaN  \n",
      "\n",
      "[62 rows x 15 columns]\n",
      "    Year\n",
      "0   1961\n",
      "1   1962\n",
      "2   1963\n",
      "3   1964\n",
      "4   1965\n",
      "..   ...\n",
      "57  2018\n",
      "58  2019\n",
      "59  2020\n",
      "60  2021\n",
      "61  2022\n",
      "\n",
      "[62 rows x 1 columns]\n",
      "    Year    Value    Value   Value    Value\n",
      "0   1990  14.0841  11.9664  6.8414   5.7227\n",
      "1   1991  14.7304  14.2141  6.6988   6.3248\n",
      "2   1992  15.0129  14.8489  6.9686   6.3505\n",
      "3   1993  15.2793  14.9227  7.2271   6.6525\n",
      "4   1994  15.8310  15.4838  7.4001   7.3443\n",
      "5   1995  16.3082  17.6927  7.6855   7.4115\n",
      "6   1996  16.8527  19.0250  7.9887   7.9859\n",
      "7   1997  17.6312  21.4721  7.7375   8.3045\n",
      "8   1998  17.3193  22.0087  8.7682  10.0853\n",
      "9   1999  16.3779  22.2367  8.2513   8.8630\n",
      "10  2000  15.7551  22.5498  8.2272   8.9795\n",
      "11  2001  15.7673  22.5755  7.9752   8.3462\n",
      "12  2002  16.3732  22.8078  7.9139   8.7355\n",
      "13  2003  16.4799  24.0200  7.9106   9.0757\n",
      "14  2004  16.7170  23.9248  8.9125  10.4496\n",
      "15  2005  17.5832  24.5504  9.4916  10.0456\n",
      "16  2006  17.3709  25.2545  8.1991   9.7238\n",
      "17  2007  17.9516  25.9004  8.9677  10.7512\n",
      "18  2008  18.0998  26.1824  8.3495   9.8529\n",
      "19  2009  18.6065  26.9410  8.7588  10.0782\n",
      "20  2010  18.8260  26.9763  9.0397  11.0138\n",
      "21  2011  18.8818  27.2511  8.6757  10.4890\n",
      "22  2012  19.2191  28.0821  9.0002  10.9834\n",
      "23  2013  20.1408  27.1381  9.2912  11.2365\n",
      "24  2014  19.4088  25.9265  8.9204  11.0072\n",
      "25  2015  19.5192  25.6218  8.7811  11.6948\n",
      "26  2016  19.4521  24.8909  8.9008  11.7082\n",
      "27  2017  19.7055  24.0898  9.0383  11.8377\n",
      "28  2018  20.0731  23.8721  9.1549  12.5829\n",
      "29  2019  20.1703  24.1834  9.0492  13.0523\n"
     ]
    }
   ],
   "source": [
    "###Keep relevant columns:\n",
    "india_air_dep_df = working_df[working_df[\"Area\"] == \"India\"].reset_index(drop=True)\n",
    "china_air_dep_df = working_df[working_df[\"Area\"] == \"China\"].reset_index(drop=True)\n",
    "thailand_air_dep_df = working_df[working_df[\"Area\"] == \"Thailand\"].reset_index(drop=True)\n",
    "vietnam_air_dep_df = working_df[working_df[\"Area\"] == \"Viet Nam\"].reset_index(drop=True)\n",
    "print(india_air_dep_df)\n",
    "year_df = india_air_dep_df[[\"Year\"]].reset_index(drop=True)\n",
    "print(year_df)\n",
    "\n",
    "air_dep_df = pd.concat([year_df, india_air_dep_df[[\"Value\"]], china_air_dep_df[[\"Value\"]], thailand_air_dep_df[[\"Value\"]], vietnam_air_dep_df[[\"Value\"]]], axis=1)\n",
    "### We only want to take data form 1990 to 2019.\n",
    "air_dep_df = air_dep_df[(air_dep_df.Year >= 1990) & (air_dep_df.Year <= 2019)].reset_index(drop=True)\n",
    "print(air_dep_df)"
   ]
  },
  {
   "cell_type": "code",
   "execution_count": 59,
   "id": "e5156cd6",
   "metadata": {},
   "outputs": [
    {
     "name": "stdout",
     "output_type": "stream",
     "text": [
      "    Year  India Air Deposition of Nitrogen  China Air Deposition of Nitrogen  \\\n",
      "0   1990                           14.0841                           11.9664   \n",
      "1   1991                           14.7304                           14.2141   \n",
      "2   1992                           15.0129                           14.8489   \n",
      "3   1993                           15.2793                           14.9227   \n",
      "4   1994                           15.8310                           15.4838   \n",
      "5   1995                           16.3082                           17.6927   \n",
      "6   1996                           16.8527                           19.0250   \n",
      "7   1997                           17.6312                           21.4721   \n",
      "8   1998                           17.3193                           22.0087   \n",
      "9   1999                           16.3779                           22.2367   \n",
      "10  2000                           15.7551                           22.5498   \n",
      "11  2001                           15.7673                           22.5755   \n",
      "12  2002                           16.3732                           22.8078   \n",
      "13  2003                           16.4799                           24.0200   \n",
      "14  2004                           16.7170                           23.9248   \n",
      "15  2005                           17.5832                           24.5504   \n",
      "16  2006                           17.3709                           25.2545   \n",
      "17  2007                           17.9516                           25.9004   \n",
      "18  2008                           18.0998                           26.1824   \n",
      "19  2009                           18.6065                           26.9410   \n",
      "20  2010                           18.8260                           26.9763   \n",
      "21  2011                           18.8818                           27.2511   \n",
      "22  2012                           19.2191                           28.0821   \n",
      "23  2013                           20.1408                           27.1381   \n",
      "24  2014                           19.4088                           25.9265   \n",
      "25  2015                           19.5192                           25.6218   \n",
      "26  2016                           19.4521                           24.8909   \n",
      "27  2017                           19.7055                           24.0898   \n",
      "28  2018                           20.0731                           23.8721   \n",
      "29  2019                           20.1703                           24.1834   \n",
      "\n",
      "    Thailand Air Deposition of Nitrogen  Vietnam Air Deposition of Nitrogen  \n",
      "0                                6.8414                              5.7227  \n",
      "1                                6.6988                              6.3248  \n",
      "2                                6.9686                              6.3505  \n",
      "3                                7.2271                              6.6525  \n",
      "4                                7.4001                              7.3443  \n",
      "5                                7.6855                              7.4115  \n",
      "6                                7.9887                              7.9859  \n",
      "7                                7.7375                              8.3045  \n",
      "8                                8.7682                             10.0853  \n",
      "9                                8.2513                              8.8630  \n",
      "10                               8.2272                              8.9795  \n",
      "11                               7.9752                              8.3462  \n",
      "12                               7.9139                              8.7355  \n",
      "13                               7.9106                              9.0757  \n",
      "14                               8.9125                             10.4496  \n",
      "15                               9.4916                             10.0456  \n",
      "16                               8.1991                              9.7238  \n",
      "17                               8.9677                             10.7512  \n",
      "18                               8.3495                              9.8529  \n",
      "19                               8.7588                             10.0782  \n",
      "20                               9.0397                             11.0138  \n",
      "21                               8.6757                             10.4890  \n",
      "22                               9.0002                             10.9834  \n",
      "23                               9.2912                             11.2365  \n",
      "24                               8.9204                             11.0072  \n",
      "25                               8.7811                             11.6948  \n",
      "26                               8.9008                             11.7082  \n",
      "27                               9.0383                             11.8377  \n",
      "28                               9.1549                             12.5829  \n",
      "29                               9.0492                             13.0523  \n"
     ]
    }
   ],
   "source": [
    "air_dep_df.columns.values[1] = \"India Air Deposition of Nitrogen\"\n",
    "air_dep_df.columns.values[2] = \"China Air Deposition of Nitrogen\"\n",
    "air_dep_df.columns.values[3] = \"Thailand Air Deposition of Nitrogen\"\n",
    "air_dep_df.columns.values[4] = \"Vietnam Air Deposition of Nitrogen\"\n",
    "print(air_dep_df)"
   ]
  },
  {
   "cell_type": "code",
   "execution_count": 60,
   "id": "9e774b86",
   "metadata": {},
   "outputs": [],
   "source": [
    "###Creates a csv file from the dataframe\n",
    "#air_dep_df.to_csv('df_air_deposition_nitrogen.csv', index=False)"
   ]
  },
  {
   "cell_type": "markdown",
   "id": "49008913-627b-40d8-b008-4ba4cd6eeff5",
   "metadata": {},
   "source": [
    "## Scatterplots"
   ]
  },
  {
   "cell_type": "code",
   "execution_count": 61,
   "id": "23f31ee7",
   "metadata": {},
   "outputs": [
    {
     "data": {
      "text/plain": [
       "<matplotlib.collections.PathCollection at 0x28566d163d0>"
      ]
     },
     "execution_count": 61,
     "metadata": {},
     "output_type": "execute_result"
    },
    {
     "data": {
      "image/png": "[encoded data removed]",
      "text/plain": [
       "<Figure size 640x480 with 1 Axes>"
      ]
     },
     "metadata": {},
     "output_type": "display_data"
    }
   ],
   "source": [
    "plt.scatter(air_dep_df[\"India Air Deposition of Nitrogen\"], rice_yields_df[\"India Rice Yield\"])"
   ]
  },
  {
   "cell_type": "code",
   "execution_count": 62,
   "id": "aece71ea",
   "metadata": {},
   "outputs": [
    {
     "data": {
      "text/plain": [
       "<matplotlib.collections.PathCollection at 0x28566a63e50>"
      ]
     },
     "execution_count": 62,
     "metadata": {},
     "output_type": "execute_result"
    },
    {
     "data": {
      "image/png": "[encoded data removed]",
      "text/plain": [
       "<Figure size 640x480 with 1 Axes>"
      ]
     },
     "metadata": {},
     "output_type": "display_data"
    }
   ],
   "source": [
    "plt.scatter(air_dep_df[\"China Air Deposition of Nitrogen\"], rice_yields_df[\"China Rice Yield\"])"
   ]
  },
  {
   "cell_type": "code",
   "execution_count": 63,
   "id": "550e4cdb",
   "metadata": {},
   "outputs": [
    {
     "data": {
      "text/plain": [
       "<matplotlib.collections.PathCollection at 0x28566f98810>"
      ]
     },
     "execution_count": 63,
     "metadata": {},
     "output_type": "execute_result"
    },
    {
     "data": {
      "image/png": "[encoded data removed]",
      "text/plain": [
       "<Figure size 640x480 with 1 Axes>"
      ]
     },
     "metadata": {},
     "output_type": "display_data"
    }
   ],
   "source": [
    "plt.scatter(air_dep_df[\"Thailand Air Deposition of Nitrogen\"], rice_yields_df[\"Thailand Rice Yield\"])"
   ]
  },
  {
   "cell_type": "code",
   "execution_count": 64,
   "id": "9bb17683",
   "metadata": {},
   "outputs": [
    {
     "data": {
      "text/plain": [
       "<matplotlib.collections.PathCollection at 0x28567022890>"
      ]
     },
     "execution_count": 64,
     "metadata": {},
     "output_type": "execute_result"
    },
    {
     "data": {
      "image/png": "[encoded data removed]",
      "text/plain": [
       "<Figure size 640x480 with 1 Axes>"
      ]
     },
     "metadata": {},
     "output_type": "display_data"
    }
   ],
   "source": [
    "plt.scatter(air_dep_df[\"Vietnam Air Deposition of Nitrogen\"], rice_yields_df[\"Vietnam Rice Yield\"])"
   ]
  },
  {
   "cell_type": "code",
   "execution_count": null,
   "id": "890cd178",
   "metadata": {},
   "outputs": [],
   "source": []
  }
 ],
 "metadata": {
  "kernelspec": {
   "display_name": "Python 3 [3.10]",
   "language": "python",
   "name": "python3"
  },
  "language_info": {
   "codemirror_mode": {
    "name": "ipython",
    "version": 3
   },
   "file_extension": ".py",
   "mimetype": "text/x-python",
   "name": "python",
   "nbconvert_exporter": "python",
   "pygments_lexer": "ipython3",
   "version": "3.10.2"
  }
 },
 "nbformat": 4,
 "nbformat_minor": 5
}
